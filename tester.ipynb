{
 "cells": [
  {
   "cell_type": "code",
   "execution_count": 1,
   "id": "fe64a9e8",
   "metadata": {},
   "outputs": [],
   "source": [
    "from helper.loader import load_ratings, load_movies, load_lists\n",
    "from helper.preprocesser import preprocess_ratings, more_than_N_ratings"
   ]
  },
  {
   "cell_type": "markdown",
   "id": "4dca861f",
   "metadata": {},
   "source": [
    "## Load data"
   ]
  },
  {
   "cell_type": "code",
   "execution_count": 2,
   "id": "64af6d6d",
   "metadata": {},
   "outputs": [],
   "source": [
    "ratings = load_ratings()\n",
    "movies = load_movies()\n",
    "lists = load_lists()"
   ]
  },
  {
   "cell_type": "markdown",
   "id": "8a5d685c",
   "metadata": {},
   "source": [
    "## Preprocess data\n",
    "Remove users with 0 or few ratings"
   ]
  },
  {
   "cell_type": "code",
   "execution_count": 13,
   "id": "b5cb7705",
   "metadata": {},
   "outputs": [
    {
     "name": "stdout",
     "output_type": "stream",
     "text": [
      "43.67 % of ratings removed (out of 15459945)\n",
      "43.54 % lists removed (out of 80311)\n"
     ]
    }
   ],
   "source": [
    "ratings_new, lists_new = preprocess_ratings(ratings, lists, min_ratings = 2)\n",
    "print(f'{round((len(ratings) - len(ratings_new)) / len(ratings) * 100, 2)} % of ratings removed (out of {len(ratings)})')\n",
    "print(f'{round((len(lists) - len(lists_new)) / len(lists) * 100, 2)} % lists removed (out of {len(lists)})')"
   ]
  },
  {
   "cell_type": "code",
   "execution_count": 4,
   "id": "a5c71822",
   "metadata": {},
   "outputs": [
    {
     "data": {
      "text/plain": [
       "3446173"
      ]
     },
     "execution_count": 4,
     "metadata": {},
     "output_type": "execute_result"
    }
   ],
   "source": []
  },
  {
   "cell_type": "code",
   "execution_count": null,
   "id": "1596e571",
   "metadata": {},
   "outputs": [],
   "source": []
  }
 ],
 "metadata": {
  "kernelspec": {
   "display_name": "Python 3 (ipykernel)",
   "language": "python",
   "name": "python3"
  },
  "language_info": {
   "codemirror_mode": {
    "name": "ipython",
    "version": 3
   },
   "file_extension": ".py",
   "mimetype": "text/x-python",
   "name": "python",
   "nbconvert_exporter": "python",
   "pygments_lexer": "ipython3",
   "version": "3.8.10"
  }
 },
 "nbformat": 4,
 "nbformat_minor": 5
}
