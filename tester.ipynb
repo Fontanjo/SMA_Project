{
 "cells": [
  {
   "cell_type": "code",
   "execution_count": 1,
   "id": "fe64a9e8",
   "metadata": {},
   "outputs": [],
   "source": [
    "from helper.loader import load_ratings, load_movies, load_lists\n",
    "from helper.preprocesser import preprocess_ratings, more_than_N_ratings\n",
    "import helper.network_explorer as ne"
   ]
  },
  {
   "cell_type": "markdown",
   "id": "773b548d",
   "metadata": {},
   "source": [
    "## Load data"
   ]
  },
  {
   "cell_type": "code",
   "execution_count": 2,
   "id": "64af6d6d",
   "metadata": {},
   "outputs": [],
   "source": [
    "ratings = load_ratings()\n",
    "# movies = load_movies()\n",
    "lists = load_lists()"
   ]
  },
  {
   "cell_type": "markdown",
   "id": "f91fe535",
   "metadata": {},
   "source": [
    "## Preprocess data\n",
    "Remove users with 0 or few ratings"
   ]
  },
  {
   "cell_type": "code",
   "execution_count": 3,
   "id": "b5cb7705",
   "metadata": {},
   "outputs": [],
   "source": [
    "ratings_new, lists_new = preprocess_ratings(ratings, lists, min_ratings = 2)\n",
    "# print(f'{round((len(ratings) - len(ratings_new)) / len(ratings) * 100, 2)} % of ratings removed (out of {len(ratings)})')\n",
    "# print(f'{round((len(lists) - len(lists_new)) / len(lists) * 100, 2)} % lists removed (out of {len(lists)})')"
   ]
  },
  {
   "cell_type": "code",
   "execution_count": 4,
   "id": "0d77323a",
   "metadata": {},
   "outputs": [
    {
     "data": {
      "text/html": [
       "<div>\n",
       "<style scoped>\n",
       "    .dataframe tbody tr th:only-of-type {\n",
       "        vertical-align: middle;\n",
       "    }\n",
       "\n",
       "    .dataframe tbody tr th {\n",
       "        vertical-align: top;\n",
       "    }\n",
       "\n",
       "    .dataframe thead th {\n",
       "        text-align: right;\n",
       "    }\n",
       "</style>\n",
       "<table border=\"1\" class=\"dataframe\">\n",
       "  <thead>\n",
       "    <tr style=\"text-align: right;\">\n",
       "      <th></th>\n",
       "      <th>movie_id</th>\n",
       "      <th>rating_id</th>\n",
       "      <th>rating_score</th>\n",
       "      <th>user_id</th>\n",
       "    </tr>\n",
       "  </thead>\n",
       "  <tbody>\n",
       "    <tr>\n",
       "      <th>0</th>\n",
       "      <td>1066</td>\n",
       "      <td>15610495</td>\n",
       "      <td>3.0</td>\n",
       "      <td>41579158</td>\n",
       "    </tr>\n",
       "    <tr>\n",
       "      <th>1</th>\n",
       "      <td>1066</td>\n",
       "      <td>10704606</td>\n",
       "      <td>2.0</td>\n",
       "      <td>85981819</td>\n",
       "    </tr>\n",
       "    <tr>\n",
       "      <th>2</th>\n",
       "      <td>1066</td>\n",
       "      <td>10177114</td>\n",
       "      <td>2.0</td>\n",
       "      <td>4208563</td>\n",
       "    </tr>\n",
       "    <tr>\n",
       "      <th>3</th>\n",
       "      <td>1066</td>\n",
       "      <td>10130280</td>\n",
       "      <td>3.0</td>\n",
       "      <td>9820140</td>\n",
       "    </tr>\n",
       "    <tr>\n",
       "      <th>4</th>\n",
       "      <td>1066</td>\n",
       "      <td>8357049</td>\n",
       "      <td>4.0</td>\n",
       "      <td>68654088</td>\n",
       "    </tr>\n",
       "    <tr>\n",
       "      <th>...</th>\n",
       "      <td>...</td>\n",
       "      <td>...</td>\n",
       "      <td>...</td>\n",
       "      <td>...</td>\n",
       "    </tr>\n",
       "    <tr>\n",
       "      <th>15459940</th>\n",
       "      <td>1065</td>\n",
       "      <td>35403</td>\n",
       "      <td>4.0</td>\n",
       "      <td>39480101</td>\n",
       "    </tr>\n",
       "    <tr>\n",
       "      <th>15459941</th>\n",
       "      <td>1065</td>\n",
       "      <td>27955</td>\n",
       "      <td>4.0</td>\n",
       "      <td>60235331</td>\n",
       "    </tr>\n",
       "    <tr>\n",
       "      <th>15459942</th>\n",
       "      <td>1065</td>\n",
       "      <td>26731</td>\n",
       "      <td>4.0</td>\n",
       "      <td>42678387</td>\n",
       "    </tr>\n",
       "    <tr>\n",
       "      <th>15459943</th>\n",
       "      <td>1065</td>\n",
       "      <td>25765</td>\n",
       "      <td>3.0</td>\n",
       "      <td>18576002</td>\n",
       "    </tr>\n",
       "    <tr>\n",
       "      <th>15459944</th>\n",
       "      <td>1065</td>\n",
       "      <td>21701</td>\n",
       "      <td>4.0</td>\n",
       "      <td>86855263</td>\n",
       "    </tr>\n",
       "  </tbody>\n",
       "</table>\n",
       "<p>15459945 rows × 4 columns</p>\n",
       "</div>"
      ],
      "text/plain": [
       "          movie_id  rating_id  rating_score   user_id\n",
       "0             1066   15610495           3.0  41579158\n",
       "1             1066   10704606           2.0  85981819\n",
       "2             1066   10177114           2.0   4208563\n",
       "3             1066   10130280           3.0   9820140\n",
       "4             1066    8357049           4.0  68654088\n",
       "...            ...        ...           ...       ...\n",
       "15459940      1065      35403           4.0  39480101\n",
       "15459941      1065      27955           4.0  60235331\n",
       "15459942      1065      26731           4.0  42678387\n",
       "15459943      1065      25765           3.0  18576002\n",
       "15459944      1065      21701           4.0  86855263\n",
       "\n",
       "[15459945 rows x 4 columns]"
      ]
     },
     "execution_count": 4,
     "metadata": {},
     "output_type": "execute_result"
    }
   ],
   "source": [
    "ratings"
   ]
  },
  {
   "cell_type": "code",
   "execution_count": 5,
   "id": "3159095f",
   "metadata": {},
   "outputs": [
    {
     "data": {
      "text/html": [
       "<div>\n",
       "<style scoped>\n",
       "    .dataframe tbody tr th:only-of-type {\n",
       "        vertical-align: middle;\n",
       "    }\n",
       "\n",
       "    .dataframe tbody tr th {\n",
       "        vertical-align: top;\n",
       "    }\n",
       "\n",
       "    .dataframe thead th {\n",
       "        text-align: right;\n",
       "    }\n",
       "</style>\n",
       "<table border=\"1\" class=\"dataframe\">\n",
       "  <thead>\n",
       "    <tr style=\"text-align: right;\">\n",
       "      <th></th>\n",
       "      <th>movie_id</th>\n",
       "      <th>rating_id</th>\n",
       "      <th>rating_score</th>\n",
       "    </tr>\n",
       "    <tr>\n",
       "      <th>user_id</th>\n",
       "      <th></th>\n",
       "      <th></th>\n",
       "      <th></th>\n",
       "    </tr>\n",
       "  </thead>\n",
       "  <tbody>\n",
       "    <tr>\n",
       "      <th>176</th>\n",
       "      <td>13</td>\n",
       "      <td>13</td>\n",
       "      <td>13</td>\n",
       "    </tr>\n",
       "    <tr>\n",
       "      <th>1290</th>\n",
       "      <td>2</td>\n",
       "      <td>2</td>\n",
       "      <td>2</td>\n",
       "    </tr>\n",
       "    <tr>\n",
       "      <th>2278</th>\n",
       "      <td>2</td>\n",
       "      <td>2</td>\n",
       "      <td>2</td>\n",
       "    </tr>\n",
       "    <tr>\n",
       "      <th>2385</th>\n",
       "      <td>16</td>\n",
       "      <td>16</td>\n",
       "      <td>16</td>\n",
       "    </tr>\n",
       "    <tr>\n",
       "      <th>2941</th>\n",
       "      <td>1423</td>\n",
       "      <td>1423</td>\n",
       "      <td>1423</td>\n",
       "    </tr>\n",
       "    <tr>\n",
       "      <th>...</th>\n",
       "      <td>...</td>\n",
       "      <td>...</td>\n",
       "      <td>...</td>\n",
       "    </tr>\n",
       "    <tr>\n",
       "      <th>99998012</th>\n",
       "      <td>11</td>\n",
       "      <td>11</td>\n",
       "      <td>11</td>\n",
       "    </tr>\n",
       "    <tr>\n",
       "      <th>99998482</th>\n",
       "      <td>4</td>\n",
       "      <td>4</td>\n",
       "      <td>4</td>\n",
       "    </tr>\n",
       "    <tr>\n",
       "      <th>99998902</th>\n",
       "      <td>5</td>\n",
       "      <td>5</td>\n",
       "      <td>5</td>\n",
       "    </tr>\n",
       "    <tr>\n",
       "      <th>99999287</th>\n",
       "      <td>4</td>\n",
       "      <td>4</td>\n",
       "      <td>4</td>\n",
       "    </tr>\n",
       "    <tr>\n",
       "      <th>99999515</th>\n",
       "      <td>6</td>\n",
       "      <td>6</td>\n",
       "      <td>6</td>\n",
       "    </tr>\n",
       "  </tbody>\n",
       "</table>\n",
       "<p>250070 rows × 3 columns</p>\n",
       "</div>"
      ],
      "text/plain": [
       "          movie_id  rating_id  rating_score\n",
       "user_id                                    \n",
       "176             13         13            13\n",
       "1290             2          2             2\n",
       "2278             2          2             2\n",
       "2385            16         16            16\n",
       "2941          1423       1423          1423\n",
       "...            ...        ...           ...\n",
       "99998012        11         11            11\n",
       "99998482         4          4             4\n",
       "99998902         5          5             5\n",
       "99999287         4          4             4\n",
       "99999515         6          6             6\n",
       "\n",
       "[250070 rows x 3 columns]"
      ]
     },
     "execution_count": 5,
     "metadata": {},
     "output_type": "execute_result"
    }
   ],
   "source": [
    "ratings_new.groupby('user_id').count()"
   ]
  },
  {
   "cell_type": "markdown",
   "id": "645b0b75",
   "metadata": {},
   "source": [
    "## Explore data"
   ]
  },
  {
   "cell_type": "code",
   "execution_count": 6,
   "id": "45a5427b",
   "metadata": {},
   "outputs": [
    {
     "data": {
      "image/png": "[encoded data removed]",
      "text/plain": [
       "<Figure size 864x504 with 1 Axes>"
      ]
     },
     "metadata": {
      "needs_background": "light"
     },
     "output_type": "display_data"
    }
   ],
   "source": [
    "vc1 = ne.plot_nb_of_ratings(ratings)"
   ]
  },
  {
   "cell_type": "code",
   "execution_count": 7,
   "id": "a5af7536",
   "metadata": {},
   "outputs": [
    {
     "ename": "NameError",
     "evalue": "name 'vc2' is not defined",
     "output_type": "error",
     "traceback": [
      "\u001b[0;31m---------------------------------------------------------------------------\u001b[0m",
      "\u001b[0;31mNameError\u001b[0m                                 Traceback (most recent call last)",
      "Input \u001b[0;32mIn [7]\u001b[0m, in \u001b[0;36m<cell line: 1>\u001b[0;34m()\u001b[0m\n\u001b[0;32m----> 1\u001b[0m \u001b[43mvc2\u001b[49m[\u001b[38;5;241m0\u001b[39m]\u001b[38;5;241m.\u001b[39mmin()\n",
      "\u001b[0;31mNameError\u001b[0m: name 'vc2' is not defined"
     ]
    }
   ],
   "source": [
    "vc2[0].min()"
   ]
  },
  {
   "cell_type": "code",
   "execution_count": null,
   "id": "73b21337",
   "metadata": {},
   "outputs": [],
   "source": [
    "vc2 = ne.plot_nb_of_ratings(ratings_new)"
   ]
  },
  {
   "cell_type": "code",
   "execution_count": null,
   "id": "351cef2d",
   "metadata": {},
   "outputs": [],
   "source": [
    "# vc"
   ]
  },
  {
   "cell_type": "code",
   "execution_count": null,
   "id": "2dfae51f",
   "metadata": {},
   "outputs": [],
   "source": [
    "import numpy as np\n",
    "import seaborn as sns\n",
    "import matplotlib.pyplot as plt"
   ]
  },
  {
   "cell_type": "code",
   "execution_count": null,
   "id": "a3cc68e9",
   "metadata": {},
   "outputs": [],
   "source": [
    "array1 = np.array(list(vc1))\n",
    "array2 = np.array(list(vc1))\n",
    "vc_c1 = np.unique(array1, return_counts=True)\n",
    "vc_c2 = np.unique(array2, return_counts=True)"
   ]
  },
  {
   "cell_type": "code",
   "execution_count": null,
   "id": "fa46bbe7",
   "metadata": {},
   "outputs": [],
   "source": [
    "# sum(vc_c[1]*vc_c[0])"
   ]
  },
  {
   "cell_type": "code",
   "execution_count": null,
   "id": "8eeaa9eb",
   "metadata": {},
   "outputs": [],
   "source": [
    "# sns.kdeplot(x=vc_c[0])\n",
    "# # plt.yscale('log')\n",
    "# plt.xlim([0, 20000])"
   ]
  },
  {
   "cell_type": "code",
   "execution_count": null,
   "id": "7ad79aa7",
   "metadata": {},
   "outputs": [],
   "source": [
    "# plt.figure(figsize=(12, 7))\n",
    "# plt.plot(vc_c[0], vc_c[1])\n",
    "# sns.histplot(x=vc_c[0], y=vc_c[1], kde=True)\n",
    "# plt.yscale('log')"
   ]
  },
  {
   "cell_type": "code",
   "execution_count": null,
   "id": "93efd139",
   "metadata": {},
   "outputs": [],
   "source": [
    "# plt.figure(figsize=(12, 7))\n",
    "# plt.scatter(vc_c[0], vc_c[1])\n",
    "# plt.yscale('log')"
   ]
  },
  {
   "cell_type": "code",
   "execution_count": null,
   "id": "a32dae85",
   "metadata": {},
   "outputs": [],
   "source": [
    "# plt.figure(figsize=(12, 7))\n",
    "# plt.plot(vc_c[0], vc_c[1])\n",
    "# plt.yscale('log')"
   ]
  },
  {
   "cell_type": "code",
   "execution_count": null,
   "id": "177d2f72",
   "metadata": {},
   "outputs": [],
   "source": [
    "# plt.hist(vc_c[0], bins=200)\n",
    "# plt.yscale('log')"
   ]
  },
  {
   "cell_type": "code",
   "execution_count": null,
   "id": "787f5a04",
   "metadata": {},
   "outputs": [],
   "source": [
    "# has_more = ratings.groupby('user_id')['user_id'].count() > 6\n",
    "# has_more[has_more].index\n",
    "#     # Select the users to keep\n",
    "# # users_to_keep = ratings['user_id'].unique()[has_more]"
   ]
  }
 ],
 "metadata": {
  "kernelspec": {
   "display_name": "Python 3 (ipykernel)",
   "language": "python",
   "name": "python3"
  },
  "language_info": {
   "codemirror_mode": {
    "name": "ipython",
    "version": 3
   },
   "file_extension": ".py",
   "mimetype": "text/x-python",
   "name": "python",
   "nbconvert_exporter": "python",
   "pygments_lexer": "ipython3",
   "version": "3.8.10"
  }
 },
 "nbformat": 4,
 "nbformat_minor": 5
}
