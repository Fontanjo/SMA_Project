{
 "cells": [
  {
   "cell_type": "code",
   "execution_count": 1,
   "id": "fe64a9e8",
   "metadata": {},
   "outputs": [],
   "source": [
    "from helper.loader import load_ratings, load_movies, load_lists\n",
    "from helper.preprocesser import preprocess_ratings, more_than_N_ratings, create_fake_identities\n",
    "import helper.network_explorer as ne\n",
    "import helper.collaborative as coll\n",
    "from scipy.sparse import csr_matrix\n",
    "from helper.preprocesser import prepare_test_data_dense, prepare_test_data_sparse\n",
    "from helper.matrix_factorization import matrix_factorization\n",
    "import pandas as pd\n",
    "import numpy as np"
   ]
  },
  {
   "cell_type": "markdown",
   "id": "6fc49daa",
   "metadata": {},
   "source": [
    "## Load data"
   ]
  },
  {
   "cell_type": "code",
   "execution_count": 2,
   "id": "64af6d6d",
   "metadata": {},
   "outputs": [],
   "source": [
    "ratings = load_ratings()\n",
    "# movies = load_movies()\n",
    "lists = load_lists()"
   ]
  },
  {
   "cell_type": "markdown",
   "id": "4954efa6",
   "metadata": {},
   "source": [
    "## Preprocess data\n",
    "Remove users with 0 or few ratings"
   ]
  },
  {
   "cell_type": "code",
   "execution_count": 3,
   "id": "b5cb7705",
   "metadata": {},
   "outputs": [],
   "source": [
    "ratings_new, lists_new = preprocess_ratings(ratings, lists, min_ratings = 500)\n",
    "# print(f'{round((len(ratings) - len(ratings_new)) / len(ratings) * 100, 2)} % of ratings removed (out of {len(ratings)})')\n",
    "# print(f'{round((len(lists) - len(lists_new)) / len(lists) * 100, 2)} % lists removed (out of {len(lists)})')"
   ]
  },
  {
   "cell_type": "code",
   "execution_count": 4,
   "id": "4e9c7785",
   "metadata": {},
   "outputs": [
    {
     "data": {
      "text/html": [
       "<div>\n",
       "<style scoped>\n",
       "    .dataframe tbody tr th:only-of-type {\n",
       "        vertical-align: middle;\n",
       "    }\n",
       "\n",
       "    .dataframe tbody tr th {\n",
       "        vertical-align: top;\n",
       "    }\n",
       "\n",
       "    .dataframe thead th {\n",
       "        text-align: right;\n",
       "    }\n",
       "</style>\n",
       "<table border=\"1\" class=\"dataframe\">\n",
       "  <thead>\n",
       "    <tr style=\"text-align: right;\">\n",
       "      <th></th>\n",
       "      <th>movie_id</th>\n",
       "      <th>rating_id</th>\n",
       "      <th>rating_score</th>\n",
       "      <th>user_id</th>\n",
       "    </tr>\n",
       "  </thead>\n",
       "  <tbody>\n",
       "    <tr>\n",
       "      <th>0</th>\n",
       "      <td>1066</td>\n",
       "      <td>15610495</td>\n",
       "      <td>3.0</td>\n",
       "      <td>41579158</td>\n",
       "    </tr>\n",
       "    <tr>\n",
       "      <th>1</th>\n",
       "      <td>1066</td>\n",
       "      <td>10704606</td>\n",
       "      <td>2.0</td>\n",
       "      <td>85981819</td>\n",
       "    </tr>\n",
       "    <tr>\n",
       "      <th>2</th>\n",
       "      <td>1066</td>\n",
       "      <td>10177114</td>\n",
       "      <td>2.0</td>\n",
       "      <td>4208563</td>\n",
       "    </tr>\n",
       "    <tr>\n",
       "      <th>3</th>\n",
       "      <td>1066</td>\n",
       "      <td>10130280</td>\n",
       "      <td>3.0</td>\n",
       "      <td>9820140</td>\n",
       "    </tr>\n",
       "    <tr>\n",
       "      <th>4</th>\n",
       "      <td>1066</td>\n",
       "      <td>8357049</td>\n",
       "      <td>4.0</td>\n",
       "      <td>68654088</td>\n",
       "    </tr>\n",
       "    <tr>\n",
       "      <th>...</th>\n",
       "      <td>...</td>\n",
       "      <td>...</td>\n",
       "      <td>...</td>\n",
       "      <td>...</td>\n",
       "    </tr>\n",
       "    <tr>\n",
       "      <th>15459940</th>\n",
       "      <td>1065</td>\n",
       "      <td>35403</td>\n",
       "      <td>4.0</td>\n",
       "      <td>39480101</td>\n",
       "    </tr>\n",
       "    <tr>\n",
       "      <th>15459941</th>\n",
       "      <td>1065</td>\n",
       "      <td>27955</td>\n",
       "      <td>4.0</td>\n",
       "      <td>60235331</td>\n",
       "    </tr>\n",
       "    <tr>\n",
       "      <th>15459942</th>\n",
       "      <td>1065</td>\n",
       "      <td>26731</td>\n",
       "      <td>4.0</td>\n",
       "      <td>42678387</td>\n",
       "    </tr>\n",
       "    <tr>\n",
       "      <th>15459943</th>\n",
       "      <td>1065</td>\n",
       "      <td>25765</td>\n",
       "      <td>3.0</td>\n",
       "      <td>18576002</td>\n",
       "    </tr>\n",
       "    <tr>\n",
       "      <th>15459944</th>\n",
       "      <td>1065</td>\n",
       "      <td>21701</td>\n",
       "      <td>4.0</td>\n",
       "      <td>86855263</td>\n",
       "    </tr>\n",
       "  </tbody>\n",
       "</table>\n",
       "<p>15459945 rows × 4 columns</p>\n",
       "</div>"
      ],
      "text/plain": [
       "          movie_id  rating_id  rating_score   user_id\n",
       "0             1066   15610495           3.0  41579158\n",
       "1             1066   10704606           2.0  85981819\n",
       "2             1066   10177114           2.0   4208563\n",
       "3             1066   10130280           3.0   9820140\n",
       "4             1066    8357049           4.0  68654088\n",
       "...            ...        ...           ...       ...\n",
       "15459940      1065      35403           4.0  39480101\n",
       "15459941      1065      27955           4.0  60235331\n",
       "15459942      1065      26731           4.0  42678387\n",
       "15459943      1065      25765           3.0  18576002\n",
       "15459944      1065      21701           4.0  86855263\n",
       "\n",
       "[15459945 rows x 4 columns]"
      ]
     },
     "execution_count": 4,
     "metadata": {},
     "output_type": "execute_result"
    }
   ],
   "source": [
    "ratings"
   ]
  },
  {
   "cell_type": "code",
   "execution_count": 5,
   "id": "7ff0a17c",
   "metadata": {},
   "outputs": [
    {
     "data": {
      "text/html": [
       "<div>\n",
       "<style scoped>\n",
       "    .dataframe tbody tr th:only-of-type {\n",
       "        vertical-align: middle;\n",
       "    }\n",
       "\n",
       "    .dataframe tbody tr th {\n",
       "        vertical-align: top;\n",
       "    }\n",
       "\n",
       "    .dataframe thead th {\n",
       "        text-align: right;\n",
       "    }\n",
       "</style>\n",
       "<table border=\"1\" class=\"dataframe\">\n",
       "  <thead>\n",
       "    <tr style=\"text-align: right;\">\n",
       "      <th></th>\n",
       "      <th>movie_id</th>\n",
       "      <th>rating_id</th>\n",
       "      <th>rating_score</th>\n",
       "    </tr>\n",
       "    <tr>\n",
       "      <th>user_id</th>\n",
       "      <th></th>\n",
       "      <th></th>\n",
       "      <th></th>\n",
       "    </tr>\n",
       "  </thead>\n",
       "  <tbody>\n",
       "    <tr>\n",
       "      <th>2941</th>\n",
       "      <td>1423</td>\n",
       "      <td>1423</td>\n",
       "      <td>1423</td>\n",
       "    </tr>\n",
       "    <tr>\n",
       "      <th>14464</th>\n",
       "      <td>598</td>\n",
       "      <td>598</td>\n",
       "      <td>598</td>\n",
       "    </tr>\n",
       "    <tr>\n",
       "      <th>15344</th>\n",
       "      <td>726</td>\n",
       "      <td>726</td>\n",
       "      <td>726</td>\n",
       "    </tr>\n",
       "    <tr>\n",
       "      <th>29237</th>\n",
       "      <td>2122</td>\n",
       "      <td>2122</td>\n",
       "      <td>2122</td>\n",
       "    </tr>\n",
       "    <tr>\n",
       "      <th>78410</th>\n",
       "      <td>1403</td>\n",
       "      <td>1403</td>\n",
       "      <td>1403</td>\n",
       "    </tr>\n",
       "    <tr>\n",
       "      <th>...</th>\n",
       "      <td>...</td>\n",
       "      <td>...</td>\n",
       "      <td>...</td>\n",
       "    </tr>\n",
       "    <tr>\n",
       "      <th>99909118</th>\n",
       "      <td>980</td>\n",
       "      <td>980</td>\n",
       "      <td>980</td>\n",
       "    </tr>\n",
       "    <tr>\n",
       "      <th>99927639</th>\n",
       "      <td>923</td>\n",
       "      <td>923</td>\n",
       "      <td>923</td>\n",
       "    </tr>\n",
       "    <tr>\n",
       "      <th>99942902</th>\n",
       "      <td>1097</td>\n",
       "      <td>1097</td>\n",
       "      <td>1097</td>\n",
       "    </tr>\n",
       "    <tr>\n",
       "      <th>99950057</th>\n",
       "      <td>902</td>\n",
       "      <td>902</td>\n",
       "      <td>902</td>\n",
       "    </tr>\n",
       "    <tr>\n",
       "      <th>99988538</th>\n",
       "      <td>1374</td>\n",
       "      <td>1374</td>\n",
       "      <td>1374</td>\n",
       "    </tr>\n",
       "  </tbody>\n",
       "</table>\n",
       "<p>6547 rows × 3 columns</p>\n",
       "</div>"
      ],
      "text/plain": [
       "          movie_id  rating_id  rating_score\n",
       "user_id                                    \n",
       "2941          1423       1423          1423\n",
       "14464          598        598           598\n",
       "15344          726        726           726\n",
       "29237         2122       2122          2122\n",
       "78410         1403       1403          1403\n",
       "...            ...        ...           ...\n",
       "99909118       980        980           980\n",
       "99927639       923        923           923\n",
       "99942902      1097       1097          1097\n",
       "99950057       902        902           902\n",
       "99988538      1374       1374          1374\n",
       "\n",
       "[6547 rows x 3 columns]"
      ]
     },
     "execution_count": 5,
     "metadata": {},
     "output_type": "execute_result"
    }
   ],
   "source": [
    "ratings_new.groupby('user_id').count()"
   ]
  },
  {
   "cell_type": "markdown",
   "id": "fc07ea99",
   "metadata": {},
   "source": [
    "## Generate fake names"
   ]
  },
  {
   "cell_type": "code",
   "execution_count": 6,
   "id": "7d36742d",
   "metadata": {},
   "outputs": [
    {
     "data": {
      "text/plain": [
       "{2941: 'Lori Delacruz',\n",
       " 14464: 'Michael Williams',\n",
       " 15344: 'Kimberly Andrews',\n",
       " 29237: 'David Henderson',\n",
       " 78410: 'Jeffery Baker',\n",
       " 83575: 'Tara Howard',\n",
       " 94978: 'Audrey Baldwin',\n",
       " 99812: 'Brittney Pennington',\n",
       " 114207: 'Lisa Wright',\n",
       " 118503: 'Nicole Smith',\n",
       " 118841: 'Ryan Harvey',\n",
       " 126081: 'Robert Ray DVM',\n",
       " 182362: 'Heather Mooney',\n",
       " 192361: 'Christopher Jackson',\n",
       " 194932: 'Jill Sharp',\n",
       " 200681: 'Cheryl Schultz',\n",
       " 204061: 'Travis Sellers',\n",
       " 225373: 'Sean Molina',\n",
       " 230594: 'Amber Andrews',\n",
       " 234133: 'Michael Brown',\n",
       " 243873: 'Heather Cruz',\n",
       " 257723: 'Jennifer Schroeder',\n",
       " 282614: 'Randall Ellis',\n",
       " 296639: 'Amber Miller',\n",
       " 325746: 'Megan Brooks',\n",
       " 373153: 'Laura Johnson',\n",
       " 396670: 'Kent Boyer',\n",
       " 397936: 'Amanda Martinez',\n",
       " 400845: 'Michelle Smith',\n",
       " 404311: 'Albert Elliott',\n",
       " 410815: 'Christopher Burton',\n",
       " 426717: 'Albert Mckay',\n",
       " 452234: 'Earl Robbins',\n",
       " 457561: 'Lori Newman',\n",
       " 460509: 'Stephen Morris',\n",
       " 463202: 'Tammy Martinez',\n",
       " 468202: 'Timothy Marshall',\n",
       " 483726: 'James Salinas',\n",
       " 509673: 'Mrs. Emily Tran',\n",
       " 518214: 'Joshua Bentley',\n",
       " 529544: 'Brian White',\n",
       " 543478: 'Tyler Jackson',\n",
       " 557693: 'Jacqueline Morris',\n",
       " 561705: 'Nicole Henderson',\n",
       " 577908: 'Loretta Sanders',\n",
       " 607820: 'Robert Clark',\n",
       " 617912: 'Gary Jacobs',\n",
       " 636968: 'Bailey Salazar',\n",
       " 637678: 'Lawrence Hull',\n",
       " 664294: 'Stephanie Smith',\n",
       " 666335: 'Garrett Neal',\n",
       " 676666: 'Elizabeth Sandoval',\n",
       " 692040: 'Emily Orr',\n",
       " 698904: 'Kevin Walker',\n",
       " 705692: 'Michael Vasquez',\n",
       " 708321: 'Sara Abbott',\n",
       " 738641: 'Chad Snyder',\n",
       " 743251: 'Keith Gutierrez',\n",
       " 795539: 'Erin Gregory',\n",
       " 802728: 'Christopher Hoover',\n",
       " 805447: 'Jessica Figueroa',\n",
       " 815436: 'James Davidson',\n",
       " 829332: 'Erik Parker',\n",
       " 833872: 'Donna Hernandez',\n",
       " 848121: 'Christopher Moore',\n",
       " 852714: 'Jenny Villa',\n",
       " 861653: 'Jeremy Mcclain',\n",
       " 864980: 'Nicole Logan',\n",
       " 874527: 'Sarah Hall',\n",
       " 883625: 'Melanie Wilson',\n",
       " 896127: 'Jonathan Moss',\n",
       " 942061: 'Nicholas Tucker Jr.',\n",
       " 949279: 'Laura Gardner',\n",
       " 952730: 'Eduardo Mccormick',\n",
       " 1013543: 'Chris Hill',\n",
       " 1018328: 'Amy Myers',\n",
       " 1052416: 'Kayla Little',\n",
       " 1065264: 'Crystal Alvarez',\n",
       " 1083151: 'Alexander Nguyen',\n",
       " 1113283: 'Sheena Davis',\n",
       " 1131245: 'Kenneth Hardy',\n",
       " 1172137: 'Daniel Hernandez',\n",
       " 1175417: 'Jeff Barrett',\n",
       " 1198156: 'Kimberly Osborne',\n",
       " 1213677: 'Heather Rodriguez',\n",
       " 1255552: 'Fernando Brandt',\n",
       " 1284527: 'Dean Russell',\n",
       " 1286200: 'Andrea Cook',\n",
       " 1291518: 'Adam Perez',\n",
       " 1299535: 'Monica Johnston',\n",
       " 1327349: 'Sean Harris',\n",
       " 1333985: 'Anna Newman',\n",
       " 1356008: 'Heidi Cook',\n",
       " 1367229: 'Vanessa Love DDS',\n",
       " 1369684: 'Lisa Johnson',\n",
       " 1390205: 'Nicholas Evans',\n",
       " 1401167: 'Tommy Martinez',\n",
       " 1416701: 'Eric Farmer',\n",
       " 1416703: 'Kristin Lester',\n",
       " 1429021: 'Joseph Salazar',\n",
       " 1439230: 'Brad Cooper',\n",
       " 1448824: 'Kathleen Green',\n",
       " 1465812: 'Nicholas Scott',\n",
       " 1473349: 'Tamara Alvarez',\n",
       " 1475259: 'Alexander Huber',\n",
       " 1481433: 'Tamara Johnson',\n",
       " 1486024: 'Ryan Gray',\n",
       " 1489655: 'Courtney Burton',\n",
       " 1528801: 'Marc Jackson',\n",
       " 1529409: 'Charles Thomas',\n",
       " 1540182: 'Kelsey Crawford',\n",
       " 1552036: 'Rachel Smith',\n",
       " 1582438: 'Wayne Rodriguez',\n",
       " 1596941: 'Steven Davis',\n",
       " 1654627: 'Ms. Amber Potter DVM',\n",
       " 1668800: 'Megan Smith MD',\n",
       " 1686966: 'Kevin Zhang',\n",
       " 1699242: 'Nathan Harvey',\n",
       " 1700769: 'Dawn Lucas',\n",
       " 1716815: 'Andrew Hawkins',\n",
       " 1758931: 'Roy Johnson',\n",
       " 1766650: 'Nicholas Wilson',\n",
       " 1770191: 'Amy Burton',\n",
       " 1788779: 'Angela Murillo',\n",
       " 1818303: 'Lori Gaines',\n",
       " 1862179: 'Matthew Thomas',\n",
       " 1866858: 'Tony Patel',\n",
       " 1876289: 'Kyle Miller',\n",
       " 1880664: 'Margaret Velez',\n",
       " 1895364: 'Vanessa Townsend',\n",
       " 1901916: 'Craig Holden',\n",
       " 1905630: 'Sean Woods',\n",
       " 1956067: 'Edward Hendricks',\n",
       " 1957788: 'Alex Rogers',\n",
       " 1962645: 'Peter Mills',\n",
       " 1967877: 'Sharon Boyd',\n",
       " 1978700: 'Dylan Lara',\n",
       " 1989448: 'Michael Bailey',\n",
       " 2001760: 'Joseph Young',\n",
       " 2004143: 'Chad Mack',\n",
       " 2005713: 'Jason Smith',\n",
       " 2019647: 'Nichole Porter',\n",
       " 2031362: 'Chad Bass',\n",
       " 2091715: 'Ryan Lawrence PhD',\n",
       " 2098081: 'Misty Ball',\n",
       " 2101178: 'Tyler Casey',\n",
       " 2103384: 'James Rodriguez',\n",
       " 2111828: 'Joel Marks',\n",
       " 2133147: 'Michael Gibson',\n",
       " 2178361: 'Patricia Ballard',\n",
       " 2195985: 'Jason Colon',\n",
       " 2200579: 'Kathryn White',\n",
       " 2213413: 'Joshua Martin',\n",
       " 2223097: 'James Lee',\n",
       " 2238921: 'Cody Taylor',\n",
       " 2239740: 'Robert Johnston',\n",
       " 2251394: 'Emily Berry',\n",
       " 2274983: 'Melissa Walton',\n",
       " 2295598: 'James Morrison',\n",
       " 2307431: 'Mary Martinez',\n",
       " 2320121: 'Martha Alexander',\n",
       " 2323028: 'Robert Brown',\n",
       " 2332311: 'Jessica Alvarez',\n",
       " 2345758: 'Scott Jennings',\n",
       " 2359310: 'Corey Mills',\n",
       " 2378351: 'Dr. Emily Holt',\n",
       " 2401624: 'Kevin Ward',\n",
       " 2403228: 'Anne Hartman',\n",
       " 2446170: 'Ray Hicks',\n",
       " 2452551: 'Tricia Green',\n",
       " 2453479: 'David Mcmillan',\n",
       " 2466706: 'Tammy Smith',\n",
       " 2477328: 'Rebecca Jenkins',\n",
       " 2503711: 'Arthur Ruiz',\n",
       " 2588993: 'Jessica Williamson',\n",
       " 2591449: 'Kimberly Hammond',\n",
       " 2599846: 'William Davis',\n",
       " 2602809: 'Ronald Meyers',\n",
       " 2623902: 'Deborah Humphrey',\n",
       " 2645114: 'Vanessa Stewart',\n",
       " 2649325: 'Carol Fisher',\n",
       " 2675531: 'Brian Carter',\n",
       " 2676728: 'Darlene Crawford',\n",
       " 2713023: 'Michelle Williams',\n",
       " 2716811: 'Eileen Johnson',\n",
       " 2716898: 'Michael Hale',\n",
       " 2732379: 'Noah Hernandez',\n",
       " 2733941: 'Diana Greene',\n",
       " 2736607: 'Rachel Francis',\n",
       " 2747307: 'Lisa Moran',\n",
       " 2763506: 'Sydney Walsh',\n",
       " 2780539: 'Robert Dickerson',\n",
       " 2793028: 'Caleb Ellis',\n",
       " 2800833: 'Jason Decker',\n",
       " 2816854: 'Michael Cervantes',\n",
       " 2866874: 'Edgar Martin',\n",
       " 2901043: 'Brooke Gomez',\n",
       " 2921495: 'Julie Johnson',\n",
       " 2923244: 'Darren Hernandez',\n",
       " 2977862: 'Tony Paul',\n",
       " 2991560: 'Amber Lawrence',\n",
       " 2992490: 'Jason Merritt',\n",
       " 2999863: 'Alicia Anderson',\n",
       " 3017876: 'Charles Hill',\n",
       " 3022390: 'Jacqueline Ford',\n",
       " 3046694: 'Douglas Taylor',\n",
       " 3078994: 'Jaclyn Garcia',\n",
       " 3079744: 'Matthew Williams',\n",
       " 3081201: 'Angel Johnson',\n",
       " 3088333: 'Lauren Hunter',\n",
       " 3103998: 'Susan Strong',\n",
       " 3106925: 'Steven Coleman',\n",
       " 3115908: 'Robert Harrell',\n",
       " 3116062: 'David Gonzalez',\n",
       " 3156823: 'Mark Jones',\n",
       " 3158337: 'Alexander Ponce',\n",
       " 3174045: 'James Castro',\n",
       " 3184322: 'Samantha Wood',\n",
       " 3187683: 'Michelle Lucas',\n",
       " 3193616: 'Anna Caldwell',\n",
       " 3199655: 'Rebekah Jacobs',\n",
       " 3200543: 'Cody Brown',\n",
       " 3216667: 'Jamie Hooper',\n",
       " 3244566: 'Shannon Walsh',\n",
       " 3245364: 'Valerie Gordon',\n",
       " 3249347: 'Mckenzie Colon',\n",
       " 3259212: 'Stephen Bowen',\n",
       " 3265283: 'Amanda Murphy',\n",
       " 3269394: 'Mary Dillon',\n",
       " 3300667: 'Mark Maldonado',\n",
       " 3318395: 'Monica Carson',\n",
       " 3331158: 'Natalie Smith',\n",
       " 3342009: 'Nicole Herrera',\n",
       " 3364518: 'Tina Walker',\n",
       " 3370029: 'Wanda Jackson',\n",
       " 3383147: 'Theresa Sandoval',\n",
       " 3390727: 'Richard Rodriguez',\n",
       " 3416342: 'Jeremy Erickson',\n",
       " 3435568: 'Fernando Newman',\n",
       " 3471137: 'Gordon Morgan',\n",
       " 3477084: 'Jonathan Ramirez',\n",
       " 3479716: 'Colin Bates',\n",
       " 3487230: 'Jason Lynn',\n",
       " 3499043: 'Mary Taylor',\n",
       " 3500370: 'Heather Bates',\n",
       " 3515719: 'Dana Booker',\n",
       " 3523375: 'Tracy Medina',\n",
       " 3549488: 'Angela Thomas MD',\n",
       " 3558168: 'Madison Newman',\n",
       " 3565091: 'Brian Nunez',\n",
       " 3579459: 'Mariah Caldwell',\n",
       " 3591248: 'Julie Jenkins',\n",
       " 3593588: 'Brandy Martin',\n",
       " 3597275: 'Evelyn White',\n",
       " 3612216: 'Jill Hughes',\n",
       " 3652208: 'Timothy Harris',\n",
       " 3654853: 'Dustin Hahn',\n",
       " 3713838: 'Mariah Cunningham',\n",
       " 3717811: 'Kelly Blankenship',\n",
       " 3718408: 'Victor Hicks',\n",
       " 3724708: 'Shawn Thompson',\n",
       " 3738822: 'Jacob Jones',\n",
       " 3753816: 'David Jacobs',\n",
       " 3771460: 'Robert Duncan',\n",
       " 3805817: 'Vincent Smith',\n",
       " 3809387: 'Susan Taylor',\n",
       " 3840016: 'Jorge Wilson',\n",
       " 3853504: 'Andrew Ward',\n",
       " 3866280: 'Ana Lam DVM',\n",
       " 3871019: 'Alexander Logan',\n",
       " 3871967: 'Erika Elliott',\n",
       " 3874766: 'Jack Boyle',\n",
       " 3887978: 'Crystal Andrade',\n",
       " 3896728: 'Edward Jones',\n",
       " 3917415: 'Peter Mckay',\n",
       " 3922744: 'Edward Curtis',\n",
       " 3926631: 'Andrea Ramirez',\n",
       " 3980359: 'Joseph Wilkins',\n",
       " 3995155: 'Andrew Todd',\n",
       " 3997435: 'Brandi Zuniga',\n",
       " 4018596: 'Andrew Waters',\n",
       " 4028008: 'Brandon Johnson Jr.',\n",
       " 4036672: 'Victoria Reynolds',\n",
       " 4049168: 'Brett Hughes',\n",
       " 4056612: 'John Richard',\n",
       " 4061138: 'Elizabeth Flores',\n",
       " 4118456: 'Cassandra Hunter',\n",
       " 4127149: 'Mr. Dylan Russell II',\n",
       " 4130035: 'Vickie Galloway',\n",
       " 4134835: 'Mary Miller',\n",
       " 4149663: 'Aaron Freeman',\n",
       " 4170778: 'Jerry Reilly',\n",
       " 4178315: 'David Nelson',\n",
       " 4208563: 'Kenneth Anderson',\n",
       " 4237134: 'Jamie Love',\n",
       " 4247099: 'Angela Curry',\n",
       " 4305754: 'Brett Gomez',\n",
       " 4339521: 'Robert Blair',\n",
       " 4372578: 'Paula Barajas',\n",
       " 4378348: 'Lee Rios',\n",
       " 4407134: 'Hannah Schmidt',\n",
       " 4441133: 'Suzanne Sanchez',\n",
       " 4459795: 'Nicole Wang',\n",
       " 4461449: 'Laura Castro',\n",
       " 4467590: 'Jessica Washington',\n",
       " 4473661: 'Amy Molina',\n",
       " 4492746: 'Lindsey Murillo',\n",
       " 4493331: 'Henry Johnson',\n",
       " 4494349: 'Michael Meza',\n",
       " 4502430: 'Kenneth West',\n",
       " 4530186: 'Tyrone Burgess',\n",
       " 4548040: 'Eric Hall',\n",
       " 4550374: 'Linda English',\n",
       " 4568483: 'Jill Dyer',\n",
       " 4689942: 'Kelly Briggs',\n",
       " 4713996: 'Mr. Jeffery Erickson',\n",
       " 4716738: 'Thomas Hernandez',\n",
       " 4720583: 'Cristian Gonzalez',\n",
       " 4727960: 'Antonio Smith',\n",
       " 4745729: 'Donald Henry',\n",
       " 4750086: 'Justin Myers',\n",
       " 4757708: 'Scott Yoder',\n",
       " 4758313: 'James Lewis',\n",
       " 4776416: 'Shannon Lopez',\n",
       " 4778400: 'Jennifer Cooper',\n",
       " 4792040: 'Laura Alvarado',\n",
       " 4814811: 'Harry Newton',\n",
       " 4814813: 'Keith Miller',\n",
       " 4821954: 'Stephen Dickerson',\n",
       " 4827849: 'Luis Russell',\n",
       " 4875207: 'Oscar Mccoy',\n",
       " 4910110: 'Sean Robinson',\n",
       " 4910478: 'Nicolas Stark',\n",
       " 4924704: 'Henry Schwartz',\n",
       " 4929932: 'Amy Cook',\n",
       " 4932110: 'Michael Gonzalez',\n",
       " 4936608: 'Laura Lopez',\n",
       " 4943232: 'Kelly Williams',\n",
       " 4943764: 'Michelle Moore',\n",
       " 4975975: 'Alexandria Palmer',\n",
       " 4988162: 'Sharon Romero',\n",
       " 5017845: 'Brian Crawford',\n",
       " 5120954: 'Scott Moore',\n",
       " 5139988: 'Jessica Scott',\n",
       " 5144804: 'Jessica Anderson',\n",
       " 5161000: 'Latasha Walker',\n",
       " 5174995: 'Jessica Johnson',\n",
       " 5236803: 'Dr. David Smith',\n",
       " 5256266: 'Alicia Aguilar',\n",
       " 5262198: 'Jennifer Rodriguez',\n",
       " 5317070: 'Jean Conley',\n",
       " 5318806: 'Bonnie Thompson',\n",
       " 5320603: 'Anthony West',\n",
       " 5330447: 'Justin Ramirez',\n",
       " 5330835: 'Donald Farley',\n",
       " 5333081: 'Joseph Figueroa',\n",
       " 5366442: 'Christine Cantrell',\n",
       " 5372771: 'Kari Mcfarland',\n",
       " 5394292: 'Nathaniel Thompson',\n",
       " 5404489: 'Diane Duran',\n",
       " 5411302: 'Molly Gonzales',\n",
       " 5468895: 'Denise King',\n",
       " 5522779: 'Samantha Rodriguez',\n",
       " 5548907: 'Dr. Laurie Duncan MD',\n",
       " 5560548: 'Tara Chambers',\n",
       " 5561363: 'Amber Garcia',\n",
       " 5567202: 'Kirsten Smith',\n",
       " 5578342: 'Lisa Ibarra',\n",
       " 5590609: 'Steven Price',\n",
       " 5593067: 'Dr. Aaron Tate',\n",
       " 5604906: 'Karla Russell',\n",
       " 5610291: 'Joel Smith',\n",
       " 5627368: 'Brent Wright',\n",
       " 5646287: 'April Padilla',\n",
       " 5658549: 'Manuel Olson',\n",
       " 5665165: 'Erin Dickerson',\n",
       " 5665178: 'April Boyer',\n",
       " 5666420: 'Samantha Robinson',\n",
       " 5690895: 'Natalie Torres',\n",
       " 5711335: 'Julie Mccoy',\n",
       " 5727708: 'William Torres',\n",
       " 5739198: 'Leon Lee',\n",
       " 5767373: 'Michael Meyers',\n",
       " 5768441: 'Rebecca Ewing',\n",
       " 5778496: 'Timothy Robinson',\n",
       " 5787024: 'Kenneth Anderson',\n",
       " 5791120: 'Valerie Kennedy',\n",
       " 5824653: 'Chelsea Miller',\n",
       " 5828658: 'Amanda Frazier',\n",
       " 5851035: 'Nancy Moreno',\n",
       " 5912839: 'Matthew Long',\n",
       " 5930564: 'Peter Blevins',\n",
       " 5961888: 'Kevin West',\n",
       " 5964319: 'Diana Rogers',\n",
       " 5967855: 'Justin Ramirez',\n",
       " 5998210: 'Alexander Hernandez',\n",
       " 6028162: 'Jackson Mcconnell',\n",
       " 6043345: 'Charles Herring',\n",
       " 6046033: 'Sarah George',\n",
       " 6053518: 'Sherry Kim',\n",
       " 6061143: 'Katherine Baker',\n",
       " 6065357: 'Jacob Jones',\n",
       " 6066449: 'Jared Smith',\n",
       " 6067539: 'Chad Harris',\n",
       " 6075079: 'Hannah Smith',\n",
       " 6081576: 'Kelly Ward',\n",
       " 6085901: 'Troy Kemp',\n",
       " 6093891: 'Laura Lee',\n",
       " 6104540: 'Samantha Watson',\n",
       " 6123620: 'Connie Mendez',\n",
       " 6125258: 'Natasha Reynolds',\n",
       " 6131298: 'Henry Mcbride',\n",
       " 6131332: 'Danielle Choi',\n",
       " 6142796: 'Michael Castro',\n",
       " 6174083: 'Tamara Ware',\n",
       " 6208117: 'Stephen Cox',\n",
       " 6213787: 'James Weiss',\n",
       " 6237060: 'Tyler Ellis',\n",
       " 6268489: 'Christy Gomez',\n",
       " 6286140: 'Melissa Johnson',\n",
       " 6287494: 'Patrick Jacobs',\n",
       " 6294655: 'Dale Zimmerman',\n",
       " 6313247: 'Rhonda Ortiz',\n",
       " 6318061: 'Richard Wells',\n",
       " 6393136: 'Andrew Clayton',\n",
       " 6394888: 'Amy Hayes',\n",
       " 6395486: 'Lauren Moore',\n",
       " 6413313: 'Mary Perry',\n",
       " 6419760: 'Amy Murphy',\n",
       " 6464159: 'Glenn Harrison',\n",
       " 6483068: 'Robert Silva',\n",
       " 6491877: 'James Norris',\n",
       " 6514777: 'Erin Anderson',\n",
       " 6515965: 'Barbara Kerr',\n",
       " 6524284: 'Keith Holmes',\n",
       " 6525692: 'Andrew Camacho',\n",
       " 6527271: 'Sarah Reeves',\n",
       " 6558092: 'Brittany Johnson',\n",
       " 6563413: 'Patricia Oliver',\n",
       " 6564605: 'Heather Hester',\n",
       " 6576329: 'David Smith',\n",
       " 6602884: 'Patrick Perez',\n",
       " 6606518: 'Joseph Floyd',\n",
       " 6612777: 'Micheal Robinson',\n",
       " 6626178: 'Lauren Holt',\n",
       " 6635351: 'Alexis Lee',\n",
       " 6673453: 'Ashley Love',\n",
       " 6688505: 'Mrs. Connie Rodriguez DDS',\n",
       " 6715187: 'Linda Foster',\n",
       " 6736701: 'Kelly Jones',\n",
       " 6745833: 'Jonathan Nichols',\n",
       " 6765148: 'Michael Ramirez',\n",
       " 6766668: 'Ryan Nelson',\n",
       " 6786689: 'Christopher Rivera',\n",
       " 6791912: 'Raymond Ryan',\n",
       " 6808562: 'David Thompson',\n",
       " 6829898: 'David Cannon',\n",
       " 6846053: 'Nancy Vaughan',\n",
       " 6853597: 'Jeffrey Peters',\n",
       " 6867440: 'Steven Ramos',\n",
       " 6870620: 'Daniel Ellison',\n",
       " 6941706: 'Melissa Mitchell',\n",
       " 6949996: 'Yvonne Clark',\n",
       " 6962709: 'Dale Dean',\n",
       " 6972389: 'David Chavez',\n",
       " 6981044: 'Mr. Jim Simpson',\n",
       " 6983862: 'Robert Sloan',\n",
       " 6991460: 'Andrew Thomas',\n",
       " 7029344: 'Sandra Smith',\n",
       " 7051818: 'Erin Silva',\n",
       " 7061973: 'Lisa Jones',\n",
       " 7068848: 'Jessica Ferguson',\n",
       " 7073575: 'Ann Green',\n",
       " 7085170: 'Chad Guzman',\n",
       " 7100856: 'Dana Fisher',\n",
       " 7104196: 'Devon Mitchell',\n",
       " 7134984: 'Alan Grant',\n",
       " 7138829: 'Daniel Ramos',\n",
       " 7151671: 'Colleen Lee',\n",
       " 7161990: 'Troy Knox',\n",
       " 7171467: 'Alicia Smith',\n",
       " 7173429: 'Michael Bradley',\n",
       " 7186161: 'Willie Holt',\n",
       " 7186237: 'Danny Torres',\n",
       " 7199338: 'Justin Dickson',\n",
       " 7209249: 'Rebecca Johnson',\n",
       " 7213052: 'Michael Shaw',\n",
       " 7223691: 'Felicia Dixon',\n",
       " 7226653: 'Joseph Wolfe',\n",
       " 7237899: 'Rachel Cline',\n",
       " 7238849: 'Isabel Martinez',\n",
       " 7266825: 'April Tucker',\n",
       " 7271192: 'Kristen Hodge',\n",
       " 7272606: 'Ian Gilbert',\n",
       " 7297047: 'Steve Alexander',\n",
       " 7299440: 'Ray Perez',\n",
       " 7318395: 'Ashley Schmidt',\n",
       " 7332199: 'Seth Vasquez',\n",
       " 7336667: 'Robert Stewart Jr.',\n",
       " 7341545: 'Janice Roberts',\n",
       " 7357570: 'Stephanie Hensley',\n",
       " 7369447: 'Sean Daniels DDS',\n",
       " 7374254: 'Shelia Barker',\n",
       " 7408455: 'Jeremy Carrillo',\n",
       " 7420885: 'Samuel Williams',\n",
       " 7426246: 'John Ortiz',\n",
       " 7442843: 'John Cruz',\n",
       " 7464988: 'Spencer Clark',\n",
       " 7471610: 'Steven Frye',\n",
       " 7474324: 'Gary Mcdonald',\n",
       " 7511205: 'Sean Carroll',\n",
       " 7516260: 'Dr. Michael Hurst',\n",
       " 7539029: 'John Colon',\n",
       " 7576919: 'Daniel Pratt',\n",
       " 7605630: 'William Tran',\n",
       " 7614253: 'Mary Buchanan',\n",
       " 7635526: 'Savannah Marshall',\n",
       " 7659774: 'George Lowery',\n",
       " 7676720: 'Nina Reynolds',\n",
       " 7715113: 'Emily Brown',\n",
       " 7719408: 'Craig Parrish',\n",
       " 7723849: 'Lisa Patton DDS',\n",
       " 7744578: 'Erica Anderson',\n",
       " 7782448: 'Traci White',\n",
       " 7808831: 'Sabrina Salinas',\n",
       " 7813734: 'Amy Wang',\n",
       " 7817182: 'Jennifer Cooper',\n",
       " 7834388: 'Megan Wheeler',\n",
       " 7837956: 'Amy Mendoza',\n",
       " 7840177: 'Gregory Watson',\n",
       " 7840485: 'Maria Mitchell',\n",
       " 7894406: 'Holly Wilson',\n",
       " 7917350: 'Christopher Olson',\n",
       " 7959217: 'Peter Williams',\n",
       " 7974237: 'Renee Graham',\n",
       " 8064080: 'Thomas Jones',\n",
       " 8069395: 'Steven Perry',\n",
       " 8069880: 'Shawn Edwards',\n",
       " 8074042: 'Jenna Garcia',\n",
       " 8075259: 'Nicole Griffin',\n",
       " 8079120: 'Melinda Davis',\n",
       " 8083528: 'Jeffrey Martin',\n",
       " 8118039: 'Mrs. Katherine Lawson DDS',\n",
       " 8137951: 'Anna Norton',\n",
       " 8151726: 'Alison Chen',\n",
       " 8165179: 'Robert Mills',\n",
       " 8210508: 'Kevin Harvey',\n",
       " 8234475: 'Samantha Houston',\n",
       " 8316282: 'Randy Proctor',\n",
       " 8342875: 'Morgan Martin',\n",
       " 8347299: 'Daniel Miller',\n",
       " 8366176: 'Paul Koch',\n",
       " 8366783: 'Madison Odom',\n",
       " 8371362: 'Jessica Bowman',\n",
       " 8380881: 'Gregory Pittman',\n",
       " 8421750: 'Matthew Hayes',\n",
       " 8436728: 'Mary Holmes',\n",
       " 8439513: 'Rachel Manning',\n",
       " 8444494: 'Jesus Hunt',\n",
       " 8465952: 'Alex Mason',\n",
       " 8474652: 'Michael Chambers',\n",
       " 8475799: 'Meredith Wright',\n",
       " 8480228: 'James Baird',\n",
       " 8480292: 'Melanie Ramirez',\n",
       " 8510607: 'Zachary Patton',\n",
       " 8515142: 'Terri Franco',\n",
       " 8516503: 'Ian Booth',\n",
       " 8558435: 'Terrance Moyer',\n",
       " 8561386: 'Edward Stevens',\n",
       " 8564755: 'Joseph Thomas',\n",
       " 8588170: 'Alex Henry',\n",
       " 8601216: 'Sarah Mercado',\n",
       " 8626754: 'Andrew Lopez',\n",
       " 8637197: 'Lucas Anderson',\n",
       " 8643364: 'Maxwell Marshall',\n",
       " 8649385: 'Nicole Curtis',\n",
       " 8652666: 'Cesar Baker',\n",
       " 8662456: 'Sharon Hansen',\n",
       " 8666703: 'Charles Smith',\n",
       " 8679530: 'Alicia Martinez',\n",
       " 8697153: 'Paul Morales',\n",
       " 8700629: 'Melissa Long',\n",
       " 8724974: 'Arthur Hart',\n",
       " 8742704: 'Cristina Wilson',\n",
       " 8784343: 'Roy Buchanan',\n",
       " 8789569: 'James French',\n",
       " 8795970: 'John Green',\n",
       " 8797420: 'Nicole White',\n",
       " 8828049: 'Robert Walters',\n",
       " 8834790: 'Lisa Avery',\n",
       " 8836799: 'Douglas Richardson',\n",
       " 8837157: 'Paige Martinez',\n",
       " 8854501: 'Chelsea Aguirre',\n",
       " 8871486: 'John Garcia',\n",
       " 8893595: 'Jennifer Edwards',\n",
       " 8934810: 'Andrew Juarez PhD',\n",
       " 8942260: 'Stephanie Miller',\n",
       " 8979959: 'Jacob May',\n",
       " 9027242: 'Kimberly Martinez',\n",
       " 9028621: 'James Franklin',\n",
       " 9031629: 'Christina Humphrey',\n",
       " 9043427: 'Matthew Drake',\n",
       " 9126786: 'Janet Williams',\n",
       " 9144515: 'Teresa Lane',\n",
       " 9161763: 'Christina Phillips',\n",
       " 9166786: 'Brenda Cruz',\n",
       " 9210353: 'Erik Jacobson',\n",
       " 9235437: 'Rebecca King',\n",
       " 9246350: 'Adam Miller',\n",
       " 9281274: 'Amber Long',\n",
       " 9295784: 'Linda Jackson',\n",
       " 9315002: 'Darren Myers',\n",
       " 9338192: 'Jeremy Robinson',\n",
       " 9338360: 'Dr. Lori Boone',\n",
       " 9398607: 'Brandon Stokes',\n",
       " 9426724: 'Jeffrey Fisher',\n",
       " 9431536: 'Tasha Fernandez',\n",
       " 9433557: 'Melissa Powell',\n",
       " 9448346: 'Benjamin Huffman',\n",
       " 9461128: 'Kimberly Pennington',\n",
       " 9485584: 'Paula Patterson',\n",
       " 9507718: 'Samuel Craig',\n",
       " 9511200: 'Jacob Jones',\n",
       " 9513179: 'Zachary Roth',\n",
       " 9523398: 'Miranda Thompson',\n",
       " 9533174: 'Robin Norman',\n",
       " 9553064: 'David Heath',\n",
       " 9582993: 'Joshua Ross',\n",
       " 9593397: 'John Lewis',\n",
       " 9594251: 'Ashley Hamilton',\n",
       " 9633944: 'Michael Santiago',\n",
       " 9646094: 'Richard Simpson',\n",
       " 9652396: 'Maria Jones',\n",
       " 9654043: 'Martha Nielsen',\n",
       " 9684140: 'Corey Meyer',\n",
       " 9697961: 'Nancy Nelson',\n",
       " 9698269: 'Michael Bradley',\n",
       " 9707040: 'Regina Douglas',\n",
       " 9731269: 'Melinda Morales',\n",
       " 9731949: 'Charles Johnson',\n",
       " 9745114: 'Michael Berg',\n",
       " 9763128: 'Natasha Bowman',\n",
       " 9773761: 'Michelle Roberts',\n",
       " 9820140: 'Michael Powell',\n",
       " 9830187: 'Andrea Carter',\n",
       " 9856091: 'Erica Riddle',\n",
       " 9873777: 'Roger Tran',\n",
       " 9918048: 'Amber Martin',\n",
       " 9918234: 'Patricia Campbell',\n",
       " 9920348: 'Tammy Solomon',\n",
       " 9933884: 'Courtney Forbes',\n",
       " 9940708: 'Joseph Duncan',\n",
       " 9942722: 'Janet Watson',\n",
       " 9950203: 'Jessica Proctor',\n",
       " 9952805: 'Jamie Gomez',\n",
       " 9954883: 'Jessica Anderson',\n",
       " 9962933: 'Jacqueline Williams MD',\n",
       " 10000017: 'Marvin Gamble',\n",
       " 10030837: 'Sara Blanchard',\n",
       " 10036141: 'Rebecca West',\n",
       " 10040458: 'Cynthia Mitchell',\n",
       " 10097793: 'Chad Ramirez',\n",
       " 10111524: 'Charles Miller',\n",
       " 10112599: 'Derrick Hall',\n",
       " 10113055: 'Peter Hall',\n",
       " 10122072: 'William Mcdonald',\n",
       " 10139377: 'Jamie Rowland',\n",
       " 10142443: 'Tammy Hill',\n",
       " 10143815: 'Janet Schneider',\n",
       " 10179045: 'Melissa Ashley',\n",
       " 10188323: 'Terry Nelson',\n",
       " 10189856: 'Shelley Baker',\n",
       " 10240462: 'Heather Romero',\n",
       " 10240601: 'Annette Ramos',\n",
       " 10250279: 'Laura Watson',\n",
       " 10258970: 'Charles Fowler',\n",
       " 10264094: 'Karen Olson',\n",
       " 10276605: 'Tina Greene',\n",
       " 10278147: 'Joseph Shannon',\n",
       " 10278620: 'Linda Curtis',\n",
       " 10295901: 'Angela Phillips',\n",
       " 10305560: 'Leonard Kelly',\n",
       " 10318790: 'James Clark',\n",
       " 10347379: 'Haley Lane',\n",
       " 10376909: 'George Smith',\n",
       " 10382222: 'Pamela Briggs',\n",
       " 10386642: 'Anna Pittman',\n",
       " 10422057: 'Thomas Saunders',\n",
       " 10449481: 'Hector Parker',\n",
       " 10458662: 'Dr. Jennifer Wood',\n",
       " 10461542: 'Mary Torres',\n",
       " 10467750: 'Samuel Hughes',\n",
       " 10469244: 'Jeanette Miller',\n",
       " 10470454: 'Erin Carter',\n",
       " 10480285: 'Kathy Smith',\n",
       " 10498519: 'Amy Erickson',\n",
       " 10502685: 'Bonnie Smith',\n",
       " 10561337: 'Sandra Torres',\n",
       " 10562923: 'Ashley Greene',\n",
       " 10566730: 'Catherine Gomez',\n",
       " 10568793: 'Robert Zamora',\n",
       " 10579776: 'Jessica Eaton',\n",
       " 10591583: 'Deanna Dixon',\n",
       " 10605440: 'Erin Thompson',\n",
       " 10619686: 'Jeffrey Allen',\n",
       " 10622984: 'Matthew Morse',\n",
       " 10624766: 'Ethan Mckinney',\n",
       " 10644984: 'Lisa Carey',\n",
       " 10687885: 'Carrie Smith',\n",
       " 10707788: 'Kaitlyn Rollins',\n",
       " 10763587: 'Karen Miller',\n",
       " 10775923: 'Erin Simmons',\n",
       " 10782188: 'Mark White',\n",
       " 10789759: 'Benjamin Potter',\n",
       " 10807448: 'Kathy Morgan',\n",
       " 10853577: 'Robert Price',\n",
       " 10870084: 'Danielle Harris',\n",
       " 10883442: 'John Delgado',\n",
       " 10885633: 'Richard Todd',\n",
       " 10896286: 'Tiffany Watts',\n",
       " 10907143: 'Victoria Rivera',\n",
       " 10936205: 'Donald Harper',\n",
       " 10942671: 'Isaiah Campbell',\n",
       " 10961385: 'Brian Russell',\n",
       " 10966617: 'Thomas Clark',\n",
       " 10968120: 'Brittney Mayo',\n",
       " 10979867: 'Lori Osborne',\n",
       " 11009516: 'Jonathon Leonard',\n",
       " 11017275: 'Jordan Valdez',\n",
       " 11019059: 'Joshua Barry',\n",
       " 11027822: 'Dana Freeman',\n",
       " 11027945: 'William Adams',\n",
       " 11043515: 'Emily Palmer',\n",
       " 11045669: 'Julie Bailey',\n",
       " 11065885: 'Marcus Tapia',\n",
       " 11098395: 'Scott Leonard',\n",
       " 11121537: 'Kristen Brown',\n",
       " 11136885: 'April Griffith',\n",
       " 11145703: 'Darryl White',\n",
       " 11152643: 'Elizabeth Wagner',\n",
       " 11174102: 'Andrea Holland',\n",
       " 11185958: 'Taylor Anderson',\n",
       " 11204299: 'Michelle Murphy',\n",
       " 11213208: 'Hannah Schwartz',\n",
       " 11234507: 'Julie Ferguson',\n",
       " 11309530: 'Jennifer Delgado',\n",
       " 11349420: 'Tyler Hale',\n",
       " 11356423: 'Jackson Howard',\n",
       " 11394821: 'Christopher Torres',\n",
       " 11430535: 'Claudia Davila',\n",
       " 11434806: 'Joanne Bradley',\n",
       " 11439065: 'Ashley Williams',\n",
       " 11441859: 'John Webb',\n",
       " 11495393: 'Ethan Morse',\n",
       " 11529102: 'James Cooper',\n",
       " 11551858: 'James Taylor',\n",
       " 11552421: 'David Cabrera',\n",
       " 11632832: 'Jasmine Greene',\n",
       " 11643052: 'Anthony Taylor',\n",
       " 11649882: 'Mrs. Christina Mitchell',\n",
       " 11651410: 'Blake Ruiz',\n",
       " 11658329: 'Clinton Craig',\n",
       " 11716063: 'William Gutierrez',\n",
       " 11725444: 'Shane Clarke',\n",
       " 11726458: 'Anthony Munoz',\n",
       " 11735296: 'Catherine Williams',\n",
       " 11747575: 'Carrie Williams',\n",
       " 11748151: 'Ebony Martin',\n",
       " 11754234: 'Cody Evans',\n",
       " 11770476: 'Deanna Richardson DDS',\n",
       " 11774699: 'Theresa Moore',\n",
       " 11876995: 'Jimmy Mann',\n",
       " 11919240: 'Rachel Atkins',\n",
       " 11931720: 'Tara Holmes',\n",
       " 11940633: 'Jill Sandoval',\n",
       " 11981397: 'Dawn Rodriguez',\n",
       " 11995940: 'Amber Armstrong',\n",
       " 12011913: 'Vanessa Savage',\n",
       " 12021683: 'Lucas Walker',\n",
       " 12027574: 'Jacqueline Mcfarland',\n",
       " 12039209: 'Jeremiah Johnson',\n",
       " 12054315: 'Sarah Conway',\n",
       " 12084796: 'Lawrence Chavez',\n",
       " 12095933: 'Sydney Cox',\n",
       " 12146829: 'Barbara Gonzalez',\n",
       " 12153289: 'Tammy Mitchell',\n",
       " 12162276: 'Jacqueline Mcintyre',\n",
       " 12184095: 'Patrick Johnson',\n",
       " 12196139: 'Stephen Wade',\n",
       " 12200157: 'Marissa Villegas',\n",
       " 12239839: 'Charles Ruiz',\n",
       " 12247960: 'Kayla White',\n",
       " 12269969: 'Thomas Hopkins',\n",
       " 12292305: 'Glenda Hamilton',\n",
       " 12295046: 'Dominique Graham',\n",
       " 12314331: 'Tiffany Dawson',\n",
       " 12316294: 'Renee Chavez',\n",
       " 12334624: 'Jasmine York',\n",
       " 12386602: 'Denise Green',\n",
       " 12397271: 'David Harris',\n",
       " 12409849: 'Mr. Joseph Brown',\n",
       " 12415197: 'Jessica Norman',\n",
       " 12430567: 'Adam Pitts',\n",
       " 12443383: 'Amanda Schwartz',\n",
       " 12490436: 'Theodore Cuevas',\n",
       " 12510619: 'William Martinez',\n",
       " 12511522: 'Deborah Evans',\n",
       " 12517282: 'Laura Sullivan',\n",
       " 12546530: 'Elizabeth Chan',\n",
       " 12548682: 'David Johnson',\n",
       " 12589309: 'Lee Smith',\n",
       " 12603203: 'Tonya Romero',\n",
       " 12630338: 'Michael Stewart',\n",
       " 12688415: 'Dalton White',\n",
       " 12693769: 'Paul Howard',\n",
       " 12701682: 'Amy Johnson',\n",
       " 12730409: 'Amanda Caldwell',\n",
       " 12741063: 'Michele Carter',\n",
       " 12745889: 'Randy Jones',\n",
       " 12774226: 'Valerie Cameron',\n",
       " 12779883: 'Daniel Underwood',\n",
       " 12798636: 'Mary Farrell',\n",
       " 12829430: 'Megan Byrd',\n",
       " 12835181: 'Alexis Wright',\n",
       " 12852538: 'Andre Lopez',\n",
       " 12893438: 'Luis Miller',\n",
       " 12906775: 'Jeremy Henson',\n",
       " 12907630: 'Mercedes Valentine',\n",
       " 12920765: 'Maurice Dalton',\n",
       " 12931725: 'Amy Ortega',\n",
       " 12936718: 'Shannon Henry',\n",
       " 12951156: 'Jesse Howard',\n",
       " 12958553: 'Angela Rowe',\n",
       " 12974906: 'Michelle Johnson',\n",
       " 12974922: 'Shari Perez',\n",
       " 12976813: 'Diane Rogers',\n",
       " 12977356: 'Kelly Hancock',\n",
       " 12988660: 'Gerald Cortez',\n",
       " 13000667: 'Brandy Hamilton',\n",
       " 13004481: 'Caitlin Rogers',\n",
       " 13008832: 'Debra Mcdonald',\n",
       " 13019856: 'Jordan Love',\n",
       " 13020904: 'Kayla Logan',\n",
       " 13021669: 'Joshua Perkins',\n",
       " 13033670: 'Alyssa Mendoza',\n",
       " 13042103: 'Benjamin Mitchell',\n",
       " 13043944: 'Christina Brown',\n",
       " 13049264: 'Kelly Cook',\n",
       " 13076767: 'Laura Miller',\n",
       " 13083312: 'Nicole Casey',\n",
       " 13089248: 'Dustin Williamson',\n",
       " 13093109: 'Joseph Montoya',\n",
       " 13118288: 'Laura Cole',\n",
       " 13119406: 'Linda Flores',\n",
       " 13147718: 'Jane Nelson',\n",
       " 13188753: 'John Ho',\n",
       " 13204948: 'Lydia Young',\n",
       " 13234463: 'Jose Adkins',\n",
       " 13245545: 'Robert Bell',\n",
       " 13293765: 'Jamie Poole',\n",
       " 13295612: 'Tyler Collins',\n",
       " 13313258: 'Angela Gardner',\n",
       " 13313675: 'Anna Rodriguez DVM',\n",
       " 13315244: 'Diana Russell',\n",
       " 13317565: 'Jason Rivera MD',\n",
       " 13319333: 'Leslie White',\n",
       " 13320001: 'Nicholas Hernandez',\n",
       " 13322160: 'Laura Hunter',\n",
       " 13323526: 'Kevin Taylor',\n",
       " 13330335: 'Phillip Williamson',\n",
       " 13335690: 'Rachel Lopez',\n",
       " 13356872: 'Javier Davis',\n",
       " 13358407: 'Ronnie White',\n",
       " 13369624: 'Ryan Nelson',\n",
       " 13426838: 'Dennis Jackson',\n",
       " 13468098: 'Lori Valdez',\n",
       " 13470783: 'Diana Wilkinson',\n",
       " 13498061: 'Alyssa Torres',\n",
       " 13523244: 'Devin Maxwell',\n",
       " 13523854: 'April Ross',\n",
       " 13531575: 'Ann Lawrence',\n",
       " 13546902: 'Judy Mclean',\n",
       " 13557237: 'Ray Wright',\n",
       " 13566264: 'Peter Medina',\n",
       " 13603902: 'Brady Berry',\n",
       " 13631620: 'Karen Williams',\n",
       " 13640686: 'April Smith',\n",
       " 13640932: 'Christina Wilkerson',\n",
       " 13670724: 'Jeffrey Howard',\n",
       " 13715787: 'Regina Lee',\n",
       " 13720934: 'Danielle Wells',\n",
       " 13736419: 'Shawn Malone',\n",
       " 13737367: 'Ann Whitaker',\n",
       " 13745365: 'Natalie Graves',\n",
       " 13749183: 'Stephanie Williams',\n",
       " 13754514: 'Joseph Johnson DVM',\n",
       " 13755785: 'Courtney Herring',\n",
       " 13782481: 'Harold Brady',\n",
       " 13808298: 'Rebecca Fleming',\n",
       " 13820258: 'John Pena',\n",
       " 13829819: 'John Peters',\n",
       " 13858859: 'Thomas Brock',\n",
       " 13901701: 'Melanie Ballard',\n",
       " 13902535: 'Annette Fitzgerald',\n",
       " 13933422: 'Kelsey Winters',\n",
       " 13963819: 'Karen Jones',\n",
       " 13964532: 'Amy Kennedy',\n",
       " 13980785: 'Erin Frederick',\n",
       " 13990863: 'Michael Vasquez',\n",
       " 14013114: 'Daniel Harper',\n",
       " 14017603: 'Jose Lopez',\n",
       " 14021566: 'Howard James',\n",
       " 14025926: 'Erica Graham',\n",
       " 14042230: 'Cody Smith',\n",
       " 14052640: 'Mrs. Melanie Brown',\n",
       " 14057551: 'Mark Erickson',\n",
       " 14061656: 'Maria Weber',\n",
       " 14063723: 'Eric Parker',\n",
       " 14077199: 'Sean Blair',\n",
       " 14084232: 'Raymond Evans',\n",
       " 14103264: 'Aaron Vance',\n",
       " 14123795: 'Tanya Elliott',\n",
       " 14202146: 'Juan Vega',\n",
       " 14288826: 'Marissa Wolfe',\n",
       " 14301263: 'John Khan',\n",
       " 14309304: 'Lori Lawson',\n",
       " 14315901: 'Kathleen Santana',\n",
       " 14317862: 'Jennifer Stevens',\n",
       " 14336938: 'Mark Robinson',\n",
       " 14343424: 'Angela Gonzalez',\n",
       " 14351031: 'Brooke Branch',\n",
       " 14353513: 'Joshua Lee',\n",
       " 14361993: 'Charles Williams',\n",
       " 14369465: 'Cynthia Wells',\n",
       " 14384312: 'Jason Mclaughlin',\n",
       " 14386108: 'Jennifer Jackson',\n",
       " 14389543: 'Nathan Gilbert',\n",
       " 14428714: 'John Williams',\n",
       " 14435518: 'Kathleen Williams',\n",
       " 14447726: 'David Blankenship',\n",
       " 14450498: 'Joshua Allison',\n",
       " 14467119: 'Stephanie Jones',\n",
       " 14470794: 'Christy Arroyo',\n",
       " 14508560: 'Elizabeth Jones',\n",
       " 14527840: 'Robert Golden',\n",
       " 14536104: 'Angela Thomas',\n",
       " 14536381: 'Andre Davis',\n",
       " 14546267: 'Timothy Mendoza',\n",
       " 14561968: 'Eric Bell',\n",
       " 14581114: 'Kimberly Mack',\n",
       " 14587112: 'John Montoya',\n",
       " 14596639: 'Michael Wu III',\n",
       " 14636596: 'Kurt Long',\n",
       " 14649956: 'Michael Stewart',\n",
       " 14657774: 'Austin Stevenson',\n",
       " 14665411: 'Dennis Cunningham',\n",
       " 14686638: 'John Daniel',\n",
       " 14687093: 'Jennifer Gill',\n",
       " 14698427: 'Kevin Moore',\n",
       " 14708942: 'Edward Kramer',\n",
       " 14734928: 'Joel Stewart',\n",
       " 14740635: 'Steven Morton',\n",
       " 14745562: 'Kyle Long',\n",
       " 14755735: 'Randy Garza',\n",
       " 14757054: 'Jonathan Webb',\n",
       " 14773468: 'Amanda Bowman',\n",
       " 14778347: 'Bradley Kidd',\n",
       " 14795404: 'Samuel Austin',\n",
       " 14837772: 'Angie Ritter',\n",
       " 14871670: 'Paige Armstrong',\n",
       " 14913309: 'Katherine Lopez',\n",
       " 14919911: 'Edward Ferguson',\n",
       " 14954592: 'Kristy Duncan',\n",
       " 14955307: 'Dennis Martin',\n",
       " 15011908: 'Krista Washington',\n",
       " 15013016: 'Chelsey Jackson',\n",
       " 15025934: 'Roger Mccarty',\n",
       " 15029352: 'Dr. Hannah Smith',\n",
       " 15035657: 'Crystal Jackson',\n",
       " 15057673: 'Zachary Alvarez',\n",
       " 15062428: 'Jennifer Ford',\n",
       " 15085264: 'Carl Phillips',\n",
       " 15111799: 'Mary Bush',\n",
       " 15114276: 'Eileen Russell',\n",
       " 15117829: 'Dr. Steven Gilbert',\n",
       " 15166238: 'Elizabeth Day',\n",
       " 15195978: 'Clinton Parker',\n",
       " 15226837: 'Anna Wilkinson',\n",
       " 15234661: 'Karen Saunders',\n",
       " 15240401: 'Brian Vargas',\n",
       " 15246434: 'Timothy Johnson',\n",
       " 15298320: 'Joshua Levy',\n",
       " 15316698: 'Henry Bishop',\n",
       " 15330248: 'Joseph Adams',\n",
       " 15346826: 'Michael Richards',\n",
       " 15373156: 'Marcia Ramsey',\n",
       " 15377960: 'Brian Wheeler',\n",
       " 15397853: 'Mr. John Bender PhD',\n",
       " 15414469: 'Michael Valentine',\n",
       " 15423650: 'Michael Alvarado',\n",
       " ...}"
      ]
     },
     "execution_count": 6,
     "metadata": {},
     "output_type": "execute_result"
    }
   ],
   "source": [
    "names_dict = create_fake_identities(np.unique(ratings_new['user_id']))\n",
    "names_dict"
   ]
  },
  {
   "cell_type": "markdown",
   "id": "bcc97e0d",
   "metadata": {},
   "source": [
    "## Explore data"
   ]
  },
  {
   "cell_type": "code",
   "execution_count": 7,
   "id": "2432559b",
   "metadata": {},
   "outputs": [
    {
     "data": {
      "image/png": "[encoded data removed]",
      "text/plain": [
       "<Figure size 864x504 with 1 Axes>"
      ]
     },
     "metadata": {
      "needs_background": "light"
     },
     "output_type": "display_data"
    }
   ],
   "source": [
    "vc1 = ne.plot_nb_of_ratings(ratings, max_val=2000)"
   ]
  },
  {
   "cell_type": "code",
   "execution_count": 8,
   "id": "5d8008a6",
   "metadata": {},
   "outputs": [
    {
     "data": {
      "image/png": "[encoded data removed]",
      "text/plain": [
       "<Figure size 864x504 with 1 Axes>"
      ]
     },
     "metadata": {
      "needs_background": "light"
     },
     "output_type": "display_data"
    }
   ],
   "source": [
    "vc2 = ne.plot_nb_of_ratings(ratings_new, max_val=5000)"
   ]
  },
  {
   "cell_type": "code",
   "execution_count": 9,
   "id": "57f5dc14",
   "metadata": {},
   "outputs": [],
   "source": [
    "# vc2[0].min()"
   ]
  },
  {
   "cell_type": "code",
   "execution_count": 10,
   "id": "4ee47f4c",
   "metadata": {},
   "outputs": [],
   "source": [
    "# vc"
   ]
  },
  {
   "cell_type": "code",
   "execution_count": 11,
   "id": "7ef29e6e",
   "metadata": {},
   "outputs": [],
   "source": [
    "import numpy as np\n",
    "import seaborn as sns\n",
    "import matplotlib.pyplot as plt"
   ]
  },
  {
   "cell_type": "code",
   "execution_count": 12,
   "id": "9defbc14",
   "metadata": {},
   "outputs": [],
   "source": [
    "array1 = np.array(list(vc1))\n",
    "array2 = np.array(list(vc1))\n",
    "vc_c1 = np.unique(array1, return_counts=True)\n",
    "vc_c2 = np.unique(array2, return_counts=True)"
   ]
  },
  {
   "cell_type": "code",
   "execution_count": 13,
   "id": "f58ef64f",
   "metadata": {},
   "outputs": [],
   "source": [
    "# sum(vc_c[1]*vc_c[0])"
   ]
  },
  {
   "cell_type": "code",
   "execution_count": 14,
   "id": "ab3e3d8f",
   "metadata": {},
   "outputs": [],
   "source": [
    "# sns.kdeplot(x=vc_c[0])\n",
    "# # plt.yscale('log')\n",
    "# plt.xlim([0, 20000])"
   ]
  },
  {
   "cell_type": "code",
   "execution_count": 15,
   "id": "99c1b91c",
   "metadata": {},
   "outputs": [],
   "source": [
    "# plt.figure(figsize=(12, 7))\n",
    "# plt.plot(vc_c[0], vc_c[1])\n",
    "# sns.histplot(x=vc_c[0], y=vc_c[1], kde=True)\n",
    "# plt.yscale('log')"
   ]
  },
  {
   "cell_type": "code",
   "execution_count": 16,
   "id": "9f36479e",
   "metadata": {},
   "outputs": [
    {
     "data": {
      "image/png": "[encoded data removed]",
      "text/plain": [
       "<Figure size 864x504 with 1 Axes>"
      ]
     },
     "metadata": {
      "needs_background": "light"
     },
     "output_type": "display_data"
    }
   ],
   "source": [
    "plt.figure(figsize=(12, 7))\n",
    "plt.plot(vc2[0], vc2[1])\n",
    "plt.yscale('log')\n",
    "# plt.xscale('log')\n",
    "# plt.axvline(0, color='r')\n",
    "# plt.axvline(20, color='g')"
   ]
  },
  {
   "cell_type": "code",
   "execution_count": 17,
   "id": "e45ae042",
   "metadata": {},
   "outputs": [],
   "source": [
    "# plt.figure(figsize=(12, 7))\n",
    "# plt.plot(vc_c[0], vc_c[1])\n",
    "# plt.yscale('log')"
   ]
  },
  {
   "cell_type": "code",
   "execution_count": 18,
   "id": "97e9d858",
   "metadata": {},
   "outputs": [],
   "source": [
    "# plt.hist(vc_c[0], bins=200)\n",
    "# plt.yscale('log')"
   ]
  },
  {
   "cell_type": "code",
   "execution_count": 19,
   "id": "c92e777d",
   "metadata": {},
   "outputs": [],
   "source": [
    "user_item_matrix, user_id, movie_id = coll.get_sparse_user_item(ratings_new)"
   ]
  },
  {
   "cell_type": "code",
   "execution_count": 20,
   "id": "389125fc",
   "metadata": {},
   "outputs": [
    {
     "data": {
      "text/plain": [
       "<6547x136555 sparse matrix of type '<class 'numpy.float64'>'\n",
       "\twith 8052975 stored elements in Compressed Sparse Row format>"
      ]
     },
     "execution_count": 20,
     "metadata": {},
     "output_type": "execute_result"
    }
   ],
   "source": [
    "user_item_matrix"
   ]
  },
  {
   "cell_type": "code",
   "execution_count": 21,
   "id": "09e36b15",
   "metadata": {},
   "outputs": [],
   "source": [
    "import itertools\n",
    "import random"
   ]
  },
  {
   "cell_type": "code",
   "execution_count": 22,
   "id": "b1ff1552",
   "metadata": {},
   "outputs": [
    {
     "name": "stdout",
     "output_type": "stream",
     "text": [
      "8052975\n"
     ]
    },
    {
     "data": {
      "text/plain": [
       "[2664365, 6628743]"
      ]
     },
     "execution_count": 22,
     "metadata": {},
     "output_type": "execute_result"
    }
   ],
   "source": [
    "cx = user_item_matrix.tocoo()    \n",
    "# for i,j,v in zip(cx.row, cx.col, cx.data):\n",
    "#     print(v)\n",
    "    \n",
    "print(len(user_item_matrix.nonzero()[0]))\n",
    "random.sample(range(len(cx.nonzero()[0])), 2)\n",
    "# print(user_item_matrix.nonzero())\n",
    "# print(cx.nonzero())"
   ]
  },
  {
   "cell_type": "code",
   "execution_count": 23,
   "id": "90bd4c0a",
   "metadata": {},
   "outputs": [
    {
     "data": {
      "text/plain": [
       "<6547x136555 sparse matrix of type '<class 'numpy.float64'>'\n",
       "\twith 8052975 stored elements in Compressed Sparse Row format>"
      ]
     },
     "execution_count": 23,
     "metadata": {},
     "output_type": "execute_result"
    }
   ],
   "source": [
    "user_item_matrix"
   ]
  },
  {
   "cell_type": "code",
   "execution_count": 24,
   "id": "dd966a25",
   "metadata": {},
   "outputs": [],
   "source": [
    "user_item_matrix.nonzero()[1][1] = 0\n",
    "user_item_matrix.eliminate_zeros()"
   ]
  },
  {
   "cell_type": "code",
   "execution_count": 25,
   "id": "7fdb6f1b",
   "metadata": {},
   "outputs": [
    {
     "data": {
      "text/plain": [
       "<6547x136555 sparse matrix of type '<class 'numpy.float64'>'\n",
       "\twith 8052975 stored elements in Compressed Sparse Row format>"
      ]
     },
     "execution_count": 25,
     "metadata": {},
     "output_type": "execute_result"
    }
   ],
   "source": [
    "user_item_matrix"
   ]
  },
  {
   "cell_type": "code",
   "execution_count": 26,
   "id": "e22373c1",
   "metadata": {},
   "outputs": [],
   "source": [
    "import pandas as pd\n",
    "a = pd.DataFrame([[1,2,2,None,2],[1,2,2,3,2],[1,2,2,None,None]])"
   ]
  },
  {
   "cell_type": "code",
   "execution_count": 27,
   "id": "e65953f0",
   "metadata": {},
   "outputs": [
    {
     "data": {
      "text/html": [
       "<div>\n",
       "<style scoped>\n",
       "    .dataframe tbody tr th:only-of-type {\n",
       "        vertical-align: middle;\n",
       "    }\n",
       "\n",
       "    .dataframe tbody tr th {\n",
       "        vertical-align: top;\n",
       "    }\n",
       "\n",
       "    .dataframe thead th {\n",
       "        text-align: right;\n",
       "    }\n",
       "</style>\n",
       "<table border=\"1\" class=\"dataframe\">\n",
       "  <thead>\n",
       "    <tr style=\"text-align: right;\">\n",
       "      <th></th>\n",
       "      <th>0</th>\n",
       "      <th>1</th>\n",
       "      <th>2</th>\n",
       "      <th>3</th>\n",
       "      <th>4</th>\n",
       "    </tr>\n",
       "  </thead>\n",
       "  <tbody>\n",
       "    <tr>\n",
       "      <th>0</th>\n",
       "      <td>1</td>\n",
       "      <td>2</td>\n",
       "      <td>2</td>\n",
       "      <td>NaN</td>\n",
       "      <td>2.0</td>\n",
       "    </tr>\n",
       "    <tr>\n",
       "      <th>1</th>\n",
       "      <td>1</td>\n",
       "      <td>2</td>\n",
       "      <td>2</td>\n",
       "      <td>3.0</td>\n",
       "      <td>2.0</td>\n",
       "    </tr>\n",
       "    <tr>\n",
       "      <th>2</th>\n",
       "      <td>1</td>\n",
       "      <td>2</td>\n",
       "      <td>2</td>\n",
       "      <td>NaN</td>\n",
       "      <td>NaN</td>\n",
       "    </tr>\n",
       "  </tbody>\n",
       "</table>\n",
       "</div>"
      ],
      "text/plain": [
       "   0  1  2    3    4\n",
       "0  1  2  2  NaN  2.0\n",
       "1  1  2  2  3.0  2.0\n",
       "2  1  2  2  NaN  NaN"
      ]
     },
     "execution_count": 27,
     "metadata": {},
     "output_type": "execute_result"
    }
   ],
   "source": [
    "a"
   ]
  },
  {
   "cell_type": "code",
   "execution_count": 28,
   "id": "4dc649a8",
   "metadata": {},
   "outputs": [
    {
     "name": "stdout",
     "output_type": "stream",
     "text": [
      "0\n",
      "1\n",
      "2\n"
     ]
    }
   ],
   "source": [
    "for i in a.notna().index:\n",
    "    print(i)"
   ]
  },
  {
   "cell_type": "code",
   "execution_count": 29,
   "id": "80493381",
   "metadata": {},
   "outputs": [],
   "source": [
    "a = a.fillna(0)"
   ]
  },
  {
   "cell_type": "code",
   "execution_count": 30,
   "id": "5670602a",
   "metadata": {},
   "outputs": [],
   "source": [
    "m = csr_matrix(a)\n",
    "m.eliminate_zeros()"
   ]
  },
  {
   "cell_type": "code",
   "execution_count": 31,
   "id": "aef63021",
   "metadata": {},
   "outputs": [
    {
     "data": {
      "text/plain": [
       "<3x5 sparse matrix of type '<class 'numpy.float64'>'\n",
       "\twith 12 stored elements in Compressed Sparse Row format>"
      ]
     },
     "execution_count": 31,
     "metadata": {},
     "output_type": "execute_result"
    }
   ],
   "source": [
    "m"
   ]
  },
  {
   "cell_type": "code",
   "execution_count": 32,
   "id": "cc09005c",
   "metadata": {},
   "outputs": [
    {
     "name": "stdout",
     "output_type": "stream",
     "text": [
      "  (0, 0)\t1.0\n",
      "  (0, 1)\t2.0\n",
      "  (0, 2)\t2.0\n",
      "  (0, 4)\t2.0\n",
      "  (1, 0)\t1.0\n",
      "  (1, 1)\t2.0\n",
      "  (1, 2)\t2.0\n",
      "  (1, 3)\t3.0\n",
      "  (1, 4)\t2.0\n",
      "  (2, 0)\t1.0\n",
      "  (2, 1)\t2.0\n",
      "  (2, 2)\t2.0\n"
     ]
    }
   ],
   "source": [
    "print(m)"
   ]
  },
  {
   "cell_type": "code",
   "execution_count": 33,
   "id": "fc43ab81",
   "metadata": {},
   "outputs": [
    {
     "data": {
      "text/plain": [
       "(array([0, 0, 0, 0, 1, 1, 1, 1, 1, 2, 2, 2], dtype=int32),\n",
       " array([0, 1, 2, 4, 0, 1, 2, 3, 4, 0, 1, 2], dtype=int32))"
      ]
     },
     "execution_count": 33,
     "metadata": {},
     "output_type": "execute_result"
    }
   ],
   "source": [
    "m.nonzero()"
   ]
  },
  {
   "cell_type": "code",
   "execution_count": null,
   "id": "c849b32a",
   "metadata": {},
   "outputs": [],
   "source": []
  },
  {
   "cell_type": "code",
   "execution_count": 34,
   "id": "9aa64b10",
   "metadata": {},
   "outputs": [
    {
     "name": "stderr",
     "output_type": "stream",
     "text": [
      "100%|███████████████████████████████████████████| 1/1 [00:00<00:00, 1163.15it/s]\n"
     ]
    }
   ],
   "source": [
    "test_m = pd.DataFrame([[1,2,2,None,2],[1,2,2,3,2],[1,2,2,None,None]])\n",
    "b, dic = prepare_test_data_dense(test_m, 0.1)"
   ]
  },
  {
   "cell_type": "code",
   "execution_count": 35,
   "id": "832bca05",
   "metadata": {},
   "outputs": [
    {
     "data": {
      "text/html": [
       "<div>\n",
       "<style scoped>\n",
       "    .dataframe tbody tr th:only-of-type {\n",
       "        vertical-align: middle;\n",
       "    }\n",
       "\n",
       "    .dataframe tbody tr th {\n",
       "        vertical-align: top;\n",
       "    }\n",
       "\n",
       "    .dataframe thead th {\n",
       "        text-align: right;\n",
       "    }\n",
       "</style>\n",
       "<table border=\"1\" class=\"dataframe\">\n",
       "  <thead>\n",
       "    <tr style=\"text-align: right;\">\n",
       "      <th></th>\n",
       "      <th>0</th>\n",
       "      <th>1</th>\n",
       "      <th>2</th>\n",
       "      <th>3</th>\n",
       "      <th>4</th>\n",
       "    </tr>\n",
       "  </thead>\n",
       "  <tbody>\n",
       "    <tr>\n",
       "      <th>0</th>\n",
       "      <td>1</td>\n",
       "      <td>2</td>\n",
       "      <td>2</td>\n",
       "      <td>NaN</td>\n",
       "      <td>2.0</td>\n",
       "    </tr>\n",
       "    <tr>\n",
       "      <th>1</th>\n",
       "      <td>1</td>\n",
       "      <td>2</td>\n",
       "      <td>2</td>\n",
       "      <td>3.0</td>\n",
       "      <td>2.0</td>\n",
       "    </tr>\n",
       "    <tr>\n",
       "      <th>2</th>\n",
       "      <td>1</td>\n",
       "      <td>2</td>\n",
       "      <td>2</td>\n",
       "      <td>NaN</td>\n",
       "      <td>NaN</td>\n",
       "    </tr>\n",
       "  </tbody>\n",
       "</table>\n",
       "</div>"
      ],
      "text/plain": [
       "   0  1  2    3    4\n",
       "0  1  2  2  NaN  2.0\n",
       "1  1  2  2  3.0  2.0\n",
       "2  1  2  2  NaN  NaN"
      ]
     },
     "execution_count": 35,
     "metadata": {},
     "output_type": "execute_result"
    }
   ],
   "source": [
    "test_m"
   ]
  },
  {
   "cell_type": "code",
   "execution_count": 36,
   "id": "7bfddf25",
   "metadata": {},
   "outputs": [
    {
     "data": {
      "text/html": [
       "<div>\n",
       "<style scoped>\n",
       "    .dataframe tbody tr th:only-of-type {\n",
       "        vertical-align: middle;\n",
       "    }\n",
       "\n",
       "    .dataframe tbody tr th {\n",
       "        vertical-align: top;\n",
       "    }\n",
       "\n",
       "    .dataframe thead th {\n",
       "        text-align: right;\n",
       "    }\n",
       "</style>\n",
       "<table border=\"1\" class=\"dataframe\">\n",
       "  <thead>\n",
       "    <tr style=\"text-align: right;\">\n",
       "      <th></th>\n",
       "      <th>0</th>\n",
       "      <th>1</th>\n",
       "      <th>2</th>\n",
       "      <th>3</th>\n",
       "      <th>4</th>\n",
       "    </tr>\n",
       "  </thead>\n",
       "  <tbody>\n",
       "    <tr>\n",
       "      <th>0</th>\n",
       "      <td>1</td>\n",
       "      <td>2</td>\n",
       "      <td>2.0</td>\n",
       "      <td>NaN</td>\n",
       "      <td>2.0</td>\n",
       "    </tr>\n",
       "    <tr>\n",
       "      <th>1</th>\n",
       "      <td>1</td>\n",
       "      <td>2</td>\n",
       "      <td>NaN</td>\n",
       "      <td>3.0</td>\n",
       "      <td>2.0</td>\n",
       "    </tr>\n",
       "    <tr>\n",
       "      <th>2</th>\n",
       "      <td>1</td>\n",
       "      <td>2</td>\n",
       "      <td>2.0</td>\n",
       "      <td>NaN</td>\n",
       "      <td>NaN</td>\n",
       "    </tr>\n",
       "  </tbody>\n",
       "</table>\n",
       "</div>"
      ],
      "text/plain": [
       "   0  1    2    3    4\n",
       "0  1  2  2.0  NaN  2.0\n",
       "1  1  2  NaN  3.0  2.0\n",
       "2  1  2  2.0  NaN  NaN"
      ]
     },
     "execution_count": 36,
     "metadata": {},
     "output_type": "execute_result"
    }
   ],
   "source": [
    "b"
   ]
  },
  {
   "cell_type": "code",
   "execution_count": 37,
   "id": "4ef5b134",
   "metadata": {},
   "outputs": [
    {
     "data": {
      "text/plain": [
       "{(1, 2): 2}"
      ]
     },
     "execution_count": 37,
     "metadata": {},
     "output_type": "execute_result"
    }
   ],
   "source": [
    "dic"
   ]
  },
  {
   "cell_type": "code",
   "execution_count": 38,
   "id": "63cf1086",
   "metadata": {},
   "outputs": [],
   "source": [
    "sparse_m = csr_matrix(test_m.fillna(0))"
   ]
  },
  {
   "cell_type": "code",
   "execution_count": 39,
   "id": "5fd41f3b",
   "metadata": {},
   "outputs": [
    {
     "data": {
      "text/plain": [
       "<3x5 sparse matrix of type '<class 'numpy.float64'>'\n",
       "\twith 12 stored elements in Compressed Sparse Row format>"
      ]
     },
     "execution_count": 39,
     "metadata": {},
     "output_type": "execute_result"
    }
   ],
   "source": [
    "sparse_m"
   ]
  },
  {
   "cell_type": "code",
   "execution_count": 40,
   "id": "50bdd2e5",
   "metadata": {},
   "outputs": [
    {
     "data": {
      "text/plain": [
       "matrix([[1., 2., 2., 0., 2.],\n",
       "        [1., 2., 2., 3., 2.],\n",
       "        [1., 2., 2., 0., 0.]])"
      ]
     },
     "execution_count": 40,
     "metadata": {},
     "output_type": "execute_result"
    }
   ],
   "source": [
    "sparse_m.eliminate_zeros()\n",
    "sparse_m.todense()"
   ]
  },
  {
   "cell_type": "code",
   "execution_count": 41,
   "id": "f0fbce05",
   "metadata": {},
   "outputs": [],
   "source": [
    "sparse_m[0,0] = 3"
   ]
  },
  {
   "cell_type": "code",
   "execution_count": 42,
   "id": "fd89dbb8",
   "metadata": {},
   "outputs": [
    {
     "data": {
      "text/plain": [
       "matrix([[3., 2., 2., 0., 2.],\n",
       "        [1., 2., 2., 3., 2.],\n",
       "        [1., 2., 2., 0., 0.]])"
      ]
     },
     "execution_count": 42,
     "metadata": {},
     "output_type": "execute_result"
    }
   ],
   "source": [
    "sparse_m.todense()"
   ]
  },
  {
   "cell_type": "code",
   "execution_count": 43,
   "id": "07c101f5",
   "metadata": {},
   "outputs": [],
   "source": [
    "sparse_m_2 = sparse_m.copy()"
   ]
  },
  {
   "cell_type": "code",
   "execution_count": 44,
   "id": "a6213db8",
   "metadata": {},
   "outputs": [
    {
     "name": "stderr",
     "output_type": "stream",
     "text": [
      "100%|███████████████████████████████████████████| 6/6 [00:00<00:00, 7748.10it/s]\n"
     ]
    }
   ],
   "source": [
    "c, dic2 = prepare_test_data_sparse(sparse_m, .5)"
   ]
  },
  {
   "cell_type": "code",
   "execution_count": 45,
   "id": "953575c3",
   "metadata": {},
   "outputs": [
    {
     "data": {
      "text/plain": [
       "<3x5 sparse matrix of type '<class 'numpy.float64'>'\n",
       "\twith 6 stored elements in Compressed Sparse Row format>"
      ]
     },
     "execution_count": 45,
     "metadata": {},
     "output_type": "execute_result"
    }
   ],
   "source": [
    "c"
   ]
  },
  {
   "cell_type": "code",
   "execution_count": 46,
   "id": "a0a8526d",
   "metadata": {},
   "outputs": [
    {
     "data": {
      "text/plain": [
       "matrix([[0., 0., 2., 0., 2.],\n",
       "        [1., 0., 2., 3., 0.],\n",
       "        [1., 0., 0., 0., 0.]])"
      ]
     },
     "execution_count": 46,
     "metadata": {},
     "output_type": "execute_result"
    }
   ],
   "source": [
    "c.todense()"
   ]
  },
  {
   "cell_type": "code",
   "execution_count": 47,
   "id": "1e0c590b",
   "metadata": {},
   "outputs": [
    {
     "data": {
      "text/plain": [
       "{(0, 1): 2.0, (1, 1): 2.0, (0, 0): 3.0, (1, 4): 2.0, (2, 2): 2.0, (2, 1): 2.0}"
      ]
     },
     "execution_count": 47,
     "metadata": {},
     "output_type": "execute_result"
    }
   ],
   "source": [
    "dic2"
   ]
  },
  {
   "cell_type": "code",
   "execution_count": 4,
   "id": "dd19cc3d",
   "metadata": {},
   "outputs": [],
   "source": [
    "sparse_user_item, _, _ = coll.get_sparse_user_item(ratings_new)"
   ]
  },
  {
   "cell_type": "code",
   "execution_count": 5,
   "id": "492f96e3",
   "metadata": {},
   "outputs": [
    {
     "data": {
      "text/plain": [
       "<6547x136555 sparse matrix of type '<class 'numpy.float64'>'\n",
       "\twith 8052975 stored elements in Compressed Sparse Row format>"
      ]
     },
     "execution_count": 5,
     "metadata": {},
     "output_type": "execute_result"
    }
   ],
   "source": [
    "sparse_user_item"
   ]
  },
  {
   "cell_type": "code",
   "execution_count": 5,
   "id": "8ccb957a",
   "metadata": {},
   "outputs": [
    {
     "name": "stderr",
     "output_type": "stream",
     "text": [
      "100%|████████████████████████████████████| 8052/8052 [00:00<00:00, 15301.86it/s]\n"
     ]
    }
   ],
   "source": [
    "reduced_user_item, dic = prepare_test_data_sparse(sparse_user_item, .001)"
   ]
  },
  {
   "cell_type": "code",
   "execution_count": 51,
   "id": "1e9ee61f",
   "metadata": {},
   "outputs": [
    {
     "data": {
      "text/plain": [
       "<6547x136555 sparse matrix of type '<class 'numpy.float64'>'\n",
       "\twith 7972446 stored elements in Compressed Sparse Row format>"
      ]
     },
     "execution_count": 51,
     "metadata": {},
     "output_type": "execute_result"
    }
   ],
   "source": [
    "reduced_user_item"
   ]
  },
  {
   "cell_type": "code",
   "execution_count": null,
   "id": "d0bb8c95",
   "metadata": {},
   "outputs": [
    {
     "name": "stderr",
     "output_type": "stream",
     "text": [
      "1000it [00:00, 3317.35it/s]\n"
     ]
    },
    {
     "name": "stdout",
     "output_type": "stream",
     "text": [
      "before transpose\n",
      "before second loop\n"
     ]
    }
   ],
   "source": [
    "matrix_factorization(R=reduced_user_item, K=5, alpha=0.002, lambda_=0.02, max_iter=5)"
   ]
  },
  {
   "cell_type": "code",
   "execution_count": null,
   "id": "1763005c",
   "metadata": {},
   "outputs": [],
   "source": []
  }
 ],
 "metadata": {
  "kernelspec": {
   "display_name": "Python 3 (ipykernel)",
   "language": "python",
   "name": "python3"
  },
  "language_info": {
   "codemirror_mode": {
    "name": "ipython",
    "version": 3
   },
   "file_extension": ".py",
   "mimetype": "text/x-python",
   "name": "python",
   "nbconvert_exporter": "python",
   "pygments_lexer": "ipython3",
   "version": "3.8.10"
  }
 },
 "nbformat": 4,
 "nbformat_minor": 5
}
